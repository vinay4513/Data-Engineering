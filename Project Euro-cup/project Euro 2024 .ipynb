{
 "cells": [
  {
   "cell_type": "code",
   "execution_count": 0,
   "metadata": {
    "application/vnd.databricks.v1+cell": {
     "cellMetadata": {
      "byteLimit": 2048000,
      "rowLimit": 10000
     },
     "inputWidgets": {},
     "nuid": "dd093e14-ea45-4113-9078-bdfd7615fd69",
     "showTitle": false,
     "title": ""
    }
   },
   "outputs": [
    {
     "output_type": "display_data",
     "data": {
      "text/html": [
       "<style scoped>\n",
       "  .table-result-container {\n",
       "    max-height: 300px;\n",
       "    overflow: auto;\n",
       "  }\n",
       "  table, th, td {\n",
       "    border: 1px solid black;\n",
       "    border-collapse: collapse;\n",
       "  }\n",
       "  th, td {\n",
       "    padding: 5px;\n",
       "  }\n",
       "  th {\n",
       "    text-align: left;\n",
       "  }\n",
       "</style><div class='table-result-container'><table class='table-result'><thead style='background-color: white'><tr><th>group</th><th>team1</th><th>team2</th><th>goals_team1</th><th>goals_team2</th></tr></thead><tbody><tr><td>A</td><td>Germany</td><td>Scotland</td><td>3</td><td>2</td></tr><tr><td>A</td><td>Germany</td><td>Hungary</td><td>1</td><td>3</td></tr><tr><td>A</td><td>Germany</td><td>Switzerland</td><td>4</td><td>5</td></tr><tr><td>A</td><td>Scotland</td><td>Hungary</td><td>3</td><td>4</td></tr><tr><td>A</td><td>Scotland</td><td>Switzerland</td><td>3</td><td>4</td></tr><tr><td>A</td><td>Hungary</td><td>Switzerland</td><td>3</td><td>5</td></tr><tr><td>B</td><td>Spain</td><td>Croatia</td><td>5</td><td>4</td></tr><tr><td>B</td><td>Spain</td><td>Italy</td><td>5</td><td>2</td></tr><tr><td>B</td><td>Spain</td><td>Albania</td><td>5</td><td>3</td></tr><tr><td>B</td><td>Croatia</td><td>Italy</td><td>2</td><td>0</td></tr><tr><td>B</td><td>Croatia</td><td>Albania</td><td>0</td><td>4</td></tr><tr><td>B</td><td>Italy</td><td>Albania</td><td>3</td><td>5</td></tr><tr><td>C</td><td>Slovenia</td><td>Denmark</td><td>2</td><td>4</td></tr><tr><td>C</td><td>Slovenia</td><td>Serbia</td><td>0</td><td>2</td></tr><tr><td>C</td><td>Slovenia</td><td>England</td><td>5</td><td>4</td></tr><tr><td>C</td><td>Denmark</td><td>Serbia</td><td>0</td><td>3</td></tr><tr><td>C</td><td>Denmark</td><td>England</td><td>1</td><td>4</td></tr><tr><td>C</td><td>Serbia</td><td>England</td><td>5</td><td>5</td></tr><tr><td>D</td><td>France</td><td>Netherlands</td><td>0</td><td>5</td></tr><tr><td>D</td><td>France</td><td>Austria</td><td>2</td><td>1</td></tr><tr><td>D</td><td>France</td><td>Finland</td><td>1</td><td>0</td></tr><tr><td>D</td><td>Netherlands</td><td>Austria</td><td>5</td><td>0</td></tr><tr><td>D</td><td>Netherlands</td><td>Finland</td><td>5</td><td>4</td></tr><tr><td>D</td><td>Austria</td><td>Finland</td><td>4</td><td>3</td></tr><tr><td>E</td><td>Belgium</td><td>Slovakia</td><td>1</td><td>5</td></tr><tr><td>E</td><td>Belgium</td><td>Romania</td><td>4</td><td>5</td></tr><tr><td>E</td><td>Belgium</td><td>Iceland</td><td>3</td><td>5</td></tr><tr><td>E</td><td>Slovakia</td><td>Romania</td><td>1</td><td>4</td></tr><tr><td>E</td><td>Slovakia</td><td>Iceland</td><td>3</td><td>1</td></tr><tr><td>E</td><td>Romania</td><td>Iceland</td><td>5</td><td>1</td></tr><tr><td>F</td><td>Turkey</td><td>Greece</td><td>3</td><td>4</td></tr><tr><td>F</td><td>Turkey</td><td>Portugal</td><td>1</td><td>5</td></tr><tr><td>F</td><td>Turkey</td><td>Czech Republic</td><td>5</td><td>4</td></tr><tr><td>F</td><td>Greece</td><td>Portugal</td><td>5</td><td>1</td></tr><tr><td>F</td><td>Greece</td><td>Czech Republic</td><td>2</td><td>1</td></tr><tr><td>F</td><td>Portugal</td><td>Czech Republic</td><td>2</td><td>4</td></tr></tbody></table></div>"
      ]
     },
     "metadata": {
      "application/vnd.databricks.v1+output": {
       "addedWidgets": {},
       "aggData": [],
       "aggError": "",
       "aggOverflow": false,
       "aggSchema": [],
       "aggSeriesLimitReached": false,
       "aggType": "",
       "arguments": {},
       "columnCustomDisplayInfos": {},
       "data": [
        [
         "A",
         "Germany",
         "Scotland",
         3,
         2
        ],
        [
         "A",
         "Germany",
         "Hungary",
         1,
         3
        ],
        [
         "A",
         "Germany",
         "Switzerland",
         4,
         5
        ],
        [
         "A",
         "Scotland",
         "Hungary",
         3,
         4
        ],
        [
         "A",
         "Scotland",
         "Switzerland",
         3,
         4
        ],
        [
         "A",
         "Hungary",
         "Switzerland",
         3,
         5
        ],
        [
         "B",
         "Spain",
         "Croatia",
         5,
         4
        ],
        [
         "B",
         "Spain",
         "Italy",
         5,
         2
        ],
        [
         "B",
         "Spain",
         "Albania",
         5,
         3
        ],
        [
         "B",
         "Croatia",
         "Italy",
         2,
         0
        ],
        [
         "B",
         "Croatia",
         "Albania",
         0,
         4
        ],
        [
         "B",
         "Italy",
         "Albania",
         3,
         5
        ],
        [
         "C",
         "Slovenia",
         "Denmark",
         2,
         4
        ],
        [
         "C",
         "Slovenia",
         "Serbia",
         0,
         2
        ],
        [
         "C",
         "Slovenia",
         "England",
         5,
         4
        ],
        [
         "C",
         "Denmark",
         "Serbia",
         0,
         3
        ],
        [
         "C",
         "Denmark",
         "England",
         1,
         4
        ],
        [
         "C",
         "Serbia",
         "England",
         5,
         5
        ],
        [
         "D",
         "France",
         "Netherlands",
         0,
         5
        ],
        [
         "D",
         "France",
         "Austria",
         2,
         1
        ],
        [
         "D",
         "France",
         "Finland",
         1,
         0
        ],
        [
         "D",
         "Netherlands",
         "Austria",
         5,
         0
        ],
        [
         "D",
         "Netherlands",
         "Finland",
         5,
         4
        ],
        [
         "D",
         "Austria",
         "Finland",
         4,
         3
        ],
        [
         "E",
         "Belgium",
         "Slovakia",
         1,
         5
        ],
        [
         "E",
         "Belgium",
         "Romania",
         4,
         5
        ],
        [
         "E",
         "Belgium",
         "Iceland",
         3,
         5
        ],
        [
         "E",
         "Slovakia",
         "Romania",
         1,
         4
        ],
        [
         "E",
         "Slovakia",
         "Iceland",
         3,
         1
        ],
        [
         "E",
         "Romania",
         "Iceland",
         5,
         1
        ],
        [
         "F",
         "Turkey",
         "Greece",
         3,
         4
        ],
        [
         "F",
         "Turkey",
         "Portugal",
         1,
         5
        ],
        [
         "F",
         "Turkey",
         "Czech Republic",
         5,
         4
        ],
        [
         "F",
         "Greece",
         "Portugal",
         5,
         1
        ],
        [
         "F",
         "Greece",
         "Czech Republic",
         2,
         1
        ],
        [
         "F",
         "Portugal",
         "Czech Republic",
         2,
         4
        ]
       ],
       "datasetInfos": [],
       "dbfsResultPath": null,
       "isJsonSchema": true,
       "metadata": {},
       "overflow": false,
       "plotOptions": {
        "customPlotOptions": {},
        "displayType": "table",
        "pivotAggregation": null,
        "pivotColumns": null,
        "xColumns": null,
        "yColumns": null
       },
       "removedWidgets": [],
       "schema": [
        {
         "metadata": "{}",
         "name": "group",
         "type": "\"string\""
        },
        {
         "metadata": "{}",
         "name": "team1",
         "type": "\"string\""
        },
        {
         "metadata": "{}",
         "name": "team2",
         "type": "\"string\""
        },
        {
         "metadata": "{}",
         "name": "goals_team1",
         "type": "\"long\""
        },
        {
         "metadata": "{}",
         "name": "goals_team2",
         "type": "\"long\""
        }
       ],
       "type": "table"
      }
     },
     "output_type": "display_data"
    },
    {
     "output_type": "display_data",
     "data": {
      "text/html": [
       "<style scoped>\n",
       "  .table-result-container {\n",
       "    max-height: 300px;\n",
       "    overflow: auto;\n",
       "  }\n",
       "  table, th, td {\n",
       "    border: 1px solid black;\n",
       "    border-collapse: collapse;\n",
       "  }\n",
       "  th, td {\n",
       "    padding: 5px;\n",
       "  }\n",
       "  th {\n",
       "    text-align: left;\n",
       "  }\n",
       "</style><div class='table-result-container'><table class='table-result'><thead style='background-color: white'><tr><th>group</th><th>team_name</th><th>matches_played</th><th>wins</th><th>draws</th><th>losses</th><th>goals_scored</th><th>goals_conceded</th><th>gd</th><th>points</th></tr></thead><tbody><tr><td>A</td><td>Germany</td><td>1</td><td>0</td><td>0</td><td>1</td><td>4</td><td>5</td><td>-1</td><td>0</td></tr><tr><td>A</td><td>Germany</td><td>1</td><td>0</td><td>0</td><td>1</td><td>1</td><td>3</td><td>-2</td><td>0</td></tr><tr><td>A</td><td>Germany</td><td>1</td><td>1</td><td>0</td><td>0</td><td>3</td><td>2</td><td>1</td><td>3</td></tr><tr><td>A</td><td>Scotland</td><td>1</td><td>0</td><td>0</td><td>1</td><td>3</td><td>4</td><td>-1</td><td>0</td></tr><tr><td>A</td><td>Scotland</td><td>1</td><td>0</td><td>0</td><td>1</td><td>3</td><td>4</td><td>-1</td><td>0</td></tr><tr><td>A</td><td>Scotland</td><td>1</td><td>0</td><td>0</td><td>1</td><td>0</td><td>0</td><td>0</td><td>0</td></tr><tr><td>A</td><td>Hungary</td><td>1</td><td>0</td><td>0</td><td>1</td><td>3</td><td>5</td><td>-2</td><td>0</td></tr><tr><td>A</td><td>Hungary</td><td>1</td><td>1</td><td>0</td><td>0</td><td>0</td><td>0</td><td>0</td><td>3</td></tr><tr><td>A</td><td>Hungary</td><td>1</td><td>1</td><td>0</td><td>0</td><td>0</td><td>0</td><td>0</td><td>3</td></tr><tr><td>A</td><td>Switzerland</td><td>1</td><td>1</td><td>0</td><td>0</td><td>0</td><td>0</td><td>0</td><td>3</td></tr><tr><td>A</td><td>Switzerland</td><td>1</td><td>1</td><td>0</td><td>0</td><td>0</td><td>0</td><td>0</td><td>3</td></tr><tr><td>A</td><td>Switzerland</td><td>1</td><td>1</td><td>0</td><td>0</td><td>0</td><td>0</td><td>0</td><td>3</td></tr><tr><td>B</td><td>Spain</td><td>1</td><td>1</td><td>0</td><td>0</td><td>5</td><td>3</td><td>2</td><td>3</td></tr><tr><td>B</td><td>Spain</td><td>1</td><td>1</td><td>0</td><td>0</td><td>5</td><td>2</td><td>3</td><td>3</td></tr><tr><td>B</td><td>Spain</td><td>1</td><td>1</td><td>0</td><td>0</td><td>5</td><td>4</td><td>1</td><td>3</td></tr><tr><td>B</td><td>Croatia</td><td>1</td><td>0</td><td>0</td><td>1</td><td>0</td><td>4</td><td>-4</td><td>0</td></tr><tr><td>B</td><td>Croatia</td><td>1</td><td>1</td><td>0</td><td>0</td><td>2</td><td>0</td><td>2</td><td>3</td></tr><tr><td>B</td><td>Croatia</td><td>1</td><td>0</td><td>0</td><td>1</td><td>0</td><td>0</td><td>0</td><td>0</td></tr><tr><td>B</td><td>Italy</td><td>1</td><td>0</td><td>0</td><td>1</td><td>3</td><td>5</td><td>-2</td><td>0</td></tr><tr><td>B</td><td>Italy</td><td>1</td><td>0</td><td>0</td><td>1</td><td>0</td><td>0</td><td>0</td><td>0</td></tr><tr><td>B</td><td>Italy</td><td>1</td><td>0</td><td>0</td><td>1</td><td>0</td><td>0</td><td>0</td><td>0</td></tr><tr><td>B</td><td>Albania</td><td>1</td><td>1</td><td>0</td><td>0</td><td>0</td><td>0</td><td>0</td><td>3</td></tr><tr><td>B</td><td>Albania</td><td>1</td><td>1</td><td>0</td><td>0</td><td>0</td><td>0</td><td>0</td><td>3</td></tr><tr><td>B</td><td>Albania</td><td>1</td><td>0</td><td>0</td><td>1</td><td>0</td><td>0</td><td>0</td><td>0</td></tr><tr><td>C</td><td>Slovenia</td><td>1</td><td>1</td><td>0</td><td>0</td><td>5</td><td>4</td><td>1</td><td>3</td></tr><tr><td>C</td><td>Slovenia</td><td>1</td><td>0</td><td>0</td><td>1</td><td>0</td><td>2</td><td>-2</td><td>0</td></tr><tr><td>C</td><td>Slovenia</td><td>1</td><td>0</td><td>0</td><td>1</td><td>2</td><td>4</td><td>-2</td><td>0</td></tr><tr><td>C</td><td>Denmark</td><td>1</td><td>0</td><td>0</td><td>1</td><td>1</td><td>4</td><td>-3</td><td>0</td></tr><tr><td>C</td><td>Denmark</td><td>1</td><td>0</td><td>0</td><td>1</td><td>0</td><td>3</td><td>-3</td><td>0</td></tr><tr><td>C</td><td>Denmark</td><td>1</td><td>1</td><td>0</td><td>0</td><td>0</td><td>0</td><td>0</td><td>3</td></tr><tr><td>C</td><td>Serbia</td><td>1</td><td>0</td><td>1</td><td>0</td><td>5</td><td>5</td><td>0</td><td>1</td></tr><tr><td>C</td><td>Serbia</td><td>1</td><td>1</td><td>0</td><td>0</td><td>0</td><td>0</td><td>0</td><td>3</td></tr><tr><td>C</td><td>Serbia</td><td>1</td><td>1</td><td>0</td><td>0</td><td>0</td><td>0</td><td>0</td><td>3</td></tr><tr><td>C</td><td>England</td><td>1</td><td>0</td><td>1</td><td>0</td><td>0</td><td>0</td><td>0</td><td>1</td></tr><tr><td>C</td><td>England</td><td>1</td><td>1</td><td>0</td><td>0</td><td>0</td><td>0</td><td>0</td><td>3</td></tr><tr><td>C</td><td>England</td><td>1</td><td>0</td><td>0</td><td>1</td><td>0</td><td>0</td><td>0</td><td>0</td></tr><tr><td>D</td><td>France</td><td>1</td><td>1</td><td>0</td><td>0</td><td>1</td><td>0</td><td>1</td><td>3</td></tr><tr><td>D</td><td>France</td><td>1</td><td>1</td><td>0</td><td>0</td><td>2</td><td>1</td><td>1</td><td>3</td></tr><tr><td>D</td><td>France</td><td>1</td><td>0</td><td>0</td><td>1</td><td>0</td><td>5</td><td>-5</td><td>0</td></tr><tr><td>D</td><td>Netherlands</td><td>1</td><td>1</td><td>0</td><td>0</td><td>5</td><td>4</td><td>1</td><td>3</td></tr><tr><td>D</td><td>Netherlands</td><td>1</td><td>1</td><td>0</td><td>0</td><td>5</td><td>0</td><td>5</td><td>3</td></tr><tr><td>D</td><td>Netherlands</td><td>1</td><td>1</td><td>0</td><td>0</td><td>0</td><td>0</td><td>0</td><td>3</td></tr><tr><td>D</td><td>Austria</td><td>1</td><td>1</td><td>0</td><td>0</td><td>4</td><td>3</td><td>1</td><td>3</td></tr><tr><td>D</td><td>Austria</td><td>1</td><td>0</td><td>0</td><td>1</td><td>0</td><td>0</td><td>0</td><td>0</td></tr><tr><td>D</td><td>Austria</td><td>1</td><td>0</td><td>0</td><td>1</td><td>0</td><td>0</td><td>0</td><td>0</td></tr><tr><td>D</td><td>Finland</td><td>1</td><td>0</td><td>0</td><td>1</td><td>0</td><td>0</td><td>0</td><td>0</td></tr><tr><td>D</td><td>Finland</td><td>1</td><td>0</td><td>0</td><td>1</td><td>0</td><td>0</td><td>0</td><td>0</td></tr><tr><td>D</td><td>Finland</td><td>1</td><td>0</td><td>0</td><td>1</td><td>0</td><td>0</td><td>0</td><td>0</td></tr><tr><td>E</td><td>Belgium</td><td>1</td><td>0</td><td>0</td><td>1</td><td>3</td><td>5</td><td>-2</td><td>0</td></tr><tr><td>E</td><td>Belgium</td><td>1</td><td>0</td><td>0</td><td>1</td><td>4</td><td>5</td><td>-1</td><td>0</td></tr><tr><td>E</td><td>Belgium</td><td>1</td><td>0</td><td>0</td><td>1</td><td>1</td><td>5</td><td>-4</td><td>0</td></tr><tr><td>E</td><td>Slovakia</td><td>1</td><td>1</td><td>0</td><td>0</td><td>3</td><td>1</td><td>2</td><td>3</td></tr><tr><td>E</td><td>Slovakia</td><td>1</td><td>0</td><td>0</td><td>1</td><td>1</td><td>4</td><td>-3</td><td>0</td></tr><tr><td>E</td><td>Slovakia</td><td>1</td><td>1</td><td>0</td><td>0</td><td>0</td><td>0</td><td>0</td><td>3</td></tr><tr><td>E</td><td>Romania</td><td>1</td><td>1</td><td>0</td><td>0</td><td>5</td><td>1</td><td>4</td><td>3</td></tr><tr><td>E</td><td>Romania</td><td>1</td><td>1</td><td>0</td><td>0</td><td>0</td><td>0</td><td>0</td><td>3</td></tr><tr><td>E</td><td>Romania</td><td>1</td><td>1</td><td>0</td><td>0</td><td>0</td><td>0</td><td>0</td><td>3</td></tr><tr><td>E</td><td>Iceland</td><td>1</td><td>0</td><td>0</td><td>1</td><td>0</td><td>0</td><td>0</td><td>0</td></tr><tr><td>E</td><td>Iceland</td><td>1</td><td>0</td><td>0</td><td>1</td><td>0</td><td>0</td><td>0</td><td>0</td></tr><tr><td>E</td><td>Iceland</td><td>1</td><td>1</td><td>0</td><td>0</td><td>0</td><td>0</td><td>0</td><td>3</td></tr><tr><td>F</td><td>Turkey</td><td>1</td><td>1</td><td>0</td><td>0</td><td>5</td><td>4</td><td>1</td><td>3</td></tr><tr><td>F</td><td>Turkey</td><td>1</td><td>0</td><td>0</td><td>1</td><td>1</td><td>5</td><td>-4</td><td>0</td></tr><tr><td>F</td><td>Turkey</td><td>1</td><td>0</td><td>0</td><td>1</td><td>3</td><td>4</td><td>-1</td><td>0</td></tr><tr><td>F</td><td>Greece</td><td>1</td><td>1</td><td>0</td><td>0</td><td>2</td><td>1</td><td>1</td><td>3</td></tr><tr><td>F</td><td>Greece</td><td>1</td><td>1</td><td>0</td><td>0</td><td>5</td><td>1</td><td>4</td><td>3</td></tr><tr><td>F</td><td>Greece</td><td>1</td><td>1</td><td>0</td><td>0</td><td>0</td><td>0</td><td>0</td><td>3</td></tr><tr><td>F</td><td>Portugal</td><td>1</td><td>0</td><td>0</td><td>1</td><td>2</td><td>4</td><td>-2</td><td>0</td></tr><tr><td>F</td><td>Portugal</td><td>1</td><td>0</td><td>0</td><td>1</td><td>0</td><td>0</td><td>0</td><td>0</td></tr><tr><td>F</td><td>Portugal</td><td>1</td><td>1</td><td>0</td><td>0</td><td>0</td><td>0</td><td>0</td><td>3</td></tr><tr><td>F</td><td>Czech Republic</td><td>1</td><td>1</td><td>0</td><td>0</td><td>0</td><td>0</td><td>0</td><td>3</td></tr><tr><td>F</td><td>Czech Republic</td><td>1</td><td>0</td><td>0</td><td>1</td><td>0</td><td>0</td><td>0</td><td>0</td></tr><tr><td>F</td><td>Czech Republic</td><td>1</td><td>0</td><td>0</td><td>1</td><td>0</td><td>0</td><td>0</td><td>0</td></tr></tbody></table></div>"
      ]
     },
     "metadata": {
      "application/vnd.databricks.v1+output": {
       "addedWidgets": {},
       "aggData": [],
       "aggError": "",
       "aggOverflow": false,
       "aggSchema": [],
       "aggSeriesLimitReached": false,
       "aggType": "",
       "arguments": {},
       "columnCustomDisplayInfos": {},
       "data": [
        [
         "A",
         "Germany",
         1,
         0,
         0,
         1,
         4,
         5,
         -1,
         0
        ],
        [
         "A",
         "Germany",
         1,
         0,
         0,
         1,
         1,
         3,
         -2,
         0
        ],
        [
         "A",
         "Germany",
         1,
         1,
         0,
         0,
         3,
         2,
         1,
         3
        ],
        [
         "A",
         "Scotland",
         1,
         0,
         0,
         1,
         3,
         4,
         -1,
         0
        ],
        [
         "A",
         "Scotland",
         1,
         0,
         0,
         1,
         3,
         4,
         -1,
         0
        ],
        [
         "A",
         "Scotland",
         1,
         0,
         0,
         1,
         0,
         0,
         0,
         0
        ],
        [
         "A",
         "Hungary",
         1,
         0,
         0,
         1,
         3,
         5,
         -2,
         0
        ],
        [
         "A",
         "Hungary",
         1,
         1,
         0,
         0,
         0,
         0,
         0,
         3
        ],
        [
         "A",
         "Hungary",
         1,
         1,
         0,
         0,
         0,
         0,
         0,
         3
        ],
        [
         "A",
         "Switzerland",
         1,
         1,
         0,
         0,
         0,
         0,
         0,
         3
        ],
        [
         "A",
         "Switzerland",
         1,
         1,
         0,
         0,
         0,
         0,
         0,
         3
        ],
        [
         "A",
         "Switzerland",
         1,
         1,
         0,
         0,
         0,
         0,
         0,
         3
        ],
        [
         "B",
         "Spain",
         1,
         1,
         0,
         0,
         5,
         3,
         2,
         3
        ],
        [
         "B",
         "Spain",
         1,
         1,
         0,
         0,
         5,
         2,
         3,
         3
        ],
        [
         "B",
         "Spain",
         1,
         1,
         0,
         0,
         5,
         4,
         1,
         3
        ],
        [
         "B",
         "Croatia",
         1,
         0,
         0,
         1,
         0,
         4,
         -4,
         0
        ],
        [
         "B",
         "Croatia",
         1,
         1,
         0,
         0,
         2,
         0,
         2,
         3
        ],
        [
         "B",
         "Croatia",
         1,
         0,
         0,
         1,
         0,
         0,
         0,
         0
        ],
        [
         "B",
         "Italy",
         1,
         0,
         0,
         1,
         3,
         5,
         -2,
         0
        ],
        [
         "B",
         "Italy",
         1,
         0,
         0,
         1,
         0,
         0,
         0,
         0
        ],
        [
         "B",
         "Italy",
         1,
         0,
         0,
         1,
         0,
         0,
         0,
         0
        ],
        [
         "B",
         "Albania",
         1,
         1,
         0,
         0,
         0,
         0,
         0,
         3
        ],
        [
         "B",
         "Albania",
         1,
         1,
         0,
         0,
         0,
         0,
         0,
         3
        ],
        [
         "B",
         "Albania",
         1,
         0,
         0,
         1,
         0,
         0,
         0,
         0
        ],
        [
         "C",
         "Slovenia",
         1,
         1,
         0,
         0,
         5,
         4,
         1,
         3
        ],
        [
         "C",
         "Slovenia",
         1,
         0,
         0,
         1,
         0,
         2,
         -2,
         0
        ],
        [
         "C",
         "Slovenia",
         1,
         0,
         0,
         1,
         2,
         4,
         -2,
         0
        ],
        [
         "C",
         "Denmark",
         1,
         0,
         0,
         1,
         1,
         4,
         -3,
         0
        ],
        [
         "C",
         "Denmark",
         1,
         0,
         0,
         1,
         0,
         3,
         -3,
         0
        ],
        [
         "C",
         "Denmark",
         1,
         1,
         0,
         0,
         0,
         0,
         0,
         3
        ],
        [
         "C",
         "Serbia",
         1,
         0,
         1,
         0,
         5,
         5,
         0,
         1
        ],
        [
         "C",
         "Serbia",
         1,
         1,
         0,
         0,
         0,
         0,
         0,
         3
        ],
        [
         "C",
         "Serbia",
         1,
         1,
         0,
         0,
         0,
         0,
         0,
         3
        ],
        [
         "C",
         "England",
         1,
         0,
         1,
         0,
         0,
         0,
         0,
         1
        ],
        [
         "C",
         "England",
         1,
         1,
         0,
         0,
         0,
         0,
         0,
         3
        ],
        [
         "C",
         "England",
         1,
         0,
         0,
         1,
         0,
         0,
         0,
         0
        ],
        [
         "D",
         "France",
         1,
         1,
         0,
         0,
         1,
         0,
         1,
         3
        ],
        [
         "D",
         "France",
         1,
         1,
         0,
         0,
         2,
         1,
         1,
         3
        ],
        [
         "D",
         "France",
         1,
         0,
         0,
         1,
         0,
         5,
         -5,
         0
        ],
        [
         "D",
         "Netherlands",
         1,
         1,
         0,
         0,
         5,
         4,
         1,
         3
        ],
        [
         "D",
         "Netherlands",
         1,
         1,
         0,
         0,
         5,
         0,
         5,
         3
        ],
        [
         "D",
         "Netherlands",
         1,
         1,
         0,
         0,
         0,
         0,
         0,
         3
        ],
        [
         "D",
         "Austria",
         1,
         1,
         0,
         0,
         4,
         3,
         1,
         3
        ],
        [
         "D",
         "Austria",
         1,
         0,
         0,
         1,
         0,
         0,
         0,
         0
        ],
        [
         "D",
         "Austria",
         1,
         0,
         0,
         1,
         0,
         0,
         0,
         0
        ],
        [
         "D",
         "Finland",
         1,
         0,
         0,
         1,
         0,
         0,
         0,
         0
        ],
        [
         "D",
         "Finland",
         1,
         0,
         0,
         1,
         0,
         0,
         0,
         0
        ],
        [
         "D",
         "Finland",
         1,
         0,
         0,
         1,
         0,
         0,
         0,
         0
        ],
        [
         "E",
         "Belgium",
         1,
         0,
         0,
         1,
         3,
         5,
         -2,
         0
        ],
        [
         "E",
         "Belgium",
         1,
         0,
         0,
         1,
         4,
         5,
         -1,
         0
        ],
        [
         "E",
         "Belgium",
         1,
         0,
         0,
         1,
         1,
         5,
         -4,
         0
        ],
        [
         "E",
         "Slovakia",
         1,
         1,
         0,
         0,
         3,
         1,
         2,
         3
        ],
        [
         "E",
         "Slovakia",
         1,
         0,
         0,
         1,
         1,
         4,
         -3,
         0
        ],
        [
         "E",
         "Slovakia",
         1,
         1,
         0,
         0,
         0,
         0,
         0,
         3
        ],
        [
         "E",
         "Romania",
         1,
         1,
         0,
         0,
         5,
         1,
         4,
         3
        ],
        [
         "E",
         "Romania",
         1,
         1,
         0,
         0,
         0,
         0,
         0,
         3
        ],
        [
         "E",
         "Romania",
         1,
         1,
         0,
         0,
         0,
         0,
         0,
         3
        ],
        [
         "E",
         "Iceland",
         1,
         0,
         0,
         1,
         0,
         0,
         0,
         0
        ],
        [
         "E",
         "Iceland",
         1,
         0,
         0,
         1,
         0,
         0,
         0,
         0
        ],
        [
         "E",
         "Iceland",
         1,
         1,
         0,
         0,
         0,
         0,
         0,
         3
        ],
        [
         "F",
         "Turkey",
         1,
         1,
         0,
         0,
         5,
         4,
         1,
         3
        ],
        [
         "F",
         "Turkey",
         1,
         0,
         0,
         1,
         1,
         5,
         -4,
         0
        ],
        [
         "F",
         "Turkey",
         1,
         0,
         0,
         1,
         3,
         4,
         -1,
         0
        ],
        [
         "F",
         "Greece",
         1,
         1,
         0,
         0,
         2,
         1,
         1,
         3
        ],
        [
         "F",
         "Greece",
         1,
         1,
         0,
         0,
         5,
         1,
         4,
         3
        ],
        [
         "F",
         "Greece",
         1,
         1,
         0,
         0,
         0,
         0,
         0,
         3
        ],
        [
         "F",
         "Portugal",
         1,
         0,
         0,
         1,
         2,
         4,
         -2,
         0
        ],
        [
         "F",
         "Portugal",
         1,
         0,
         0,
         1,
         0,
         0,
         0,
         0
        ],
        [
         "F",
         "Portugal",
         1,
         1,
         0,
         0,
         0,
         0,
         0,
         3
        ],
        [
         "F",
         "Czech Republic",
         1,
         1,
         0,
         0,
         0,
         0,
         0,
         3
        ],
        [
         "F",
         "Czech Republic",
         1,
         0,
         0,
         1,
         0,
         0,
         0,
         0
        ],
        [
         "F",
         "Czech Republic",
         1,
         0,
         0,
         1,
         0,
         0,
         0,
         0
        ]
       ],
       "datasetInfos": [],
       "dbfsResultPath": null,
       "isJsonSchema": true,
       "metadata": {},
       "overflow": false,
       "plotOptions": {
        "customPlotOptions": {},
        "displayType": "table",
        "pivotAggregation": null,
        "pivotColumns": null,
        "xColumns": null,
        "yColumns": null
       },
       "removedWidgets": [],
       "schema": [
        {
         "metadata": "{}",
         "name": "group",
         "type": "\"string\""
        },
        {
         "metadata": "{}",
         "name": "team_name",
         "type": "\"string\""
        },
        {
         "metadata": "{}",
         "name": "matches_played",
         "type": "\"long\""
        },
        {
         "metadata": "{}",
         "name": "wins",
         "type": "\"long\""
        },
        {
         "metadata": "{}",
         "name": "draws",
         "type": "\"long\""
        },
        {
         "metadata": "{}",
         "name": "losses",
         "type": "\"long\""
        },
        {
         "metadata": "{}",
         "name": "goals_scored",
         "type": "\"long\""
        },
        {
         "metadata": "{}",
         "name": "goals_conceded",
         "type": "\"long\""
        },
        {
         "metadata": "{}",
         "name": "gd",
         "type": "\"long\""
        },
        {
         "metadata": "{}",
         "name": "points",
         "type": "\"long\""
        }
       ],
       "type": "table"
      }
     },
     "output_type": "display_data"
    }
   ],
   "source": [
    "import random\n",
    "from itertools import combinations\n",
    "from pyspark.sql import SparkSession\n",
    "import pyspark.sql.functions as F\n",
    "from pyspark.sql.window import Window\n",
    "\n",
    "spark = SparkSession.builder.appName(\"EuroGroupStage\").getOrCreate()\n",
    "\n",
    "# Define the list of teams for each group\n",
    "groups = {\n",
    "    \"A\": [\"Germany\", \"Scotland\", \"Hungary\", \"Switzerland\"],\n",
    "    \"B\": [\"Spain\", \"Croatia\", \"Italy\", \"Albania\"],\n",
    "    \"C\": [\"Slovenia\", \"Denmark\", \"Serbia\", \"England\"],\n",
    "    \"D\": [\"France\", \"Netherlands\", \"Austria\", \"Finland\"],\n",
    "    \"E\": [\"Belgium\", \"Slovakia\", \"Romania\", \"Iceland\"],\n",
    "    \"F\": [\"Turkey\", \"Greece\", \"Portugal\", \"Czech Republic\"] \n",
    "}\n",
    "\n",
    "# Create an empty list to store match data\n",
    "matches_data = []\n",
    "\n",
    "# Iterate over each group\n",
    "for group, teams in groups.items():\n",
    "    # Generate all possible match combinations\n",
    "    for team1, team2 in combinations(teams, 2):\n",
    "        # Generate random scores for the match\n",
    "        goals_team1 = random.randint(0, 5)\n",
    "        goals_team2 = random.randint(0, 5)\n",
    "        # Append match data to the list\n",
    "        matches_data.append((group, team1, team2, goals_team1, goals_team2))\n",
    "\n",
    "# Define the schema for the matches data\n",
    "schema = [\"group\", \"team1\", \"team2\", \"goals_team1\", \"goals_team2\"]\n",
    "\n",
    "\n",
    "\n",
    "# Create a DataFrame from the matches data\n",
    "matches_df = spark.createDataFrame(matches_data, schema=schema)\n",
    "\n",
    "display(matches_df)\n",
    "\n",
    "# Sample data for demonstration\n",
    "data = [\n",
    "    (\"A\", \"Germany\", 0, 0, 0, 0, 0, 0, 0, 0),\n",
    "    (\"A\", \"Scotland\", 0, 0, 0, 0, 0, 0, 0, 0),\n",
    "    (\"A\", \"Hungary\", 0, 0, 0, 0, 0, 0, 0, 0),\n",
    "    (\"A\", \"Switzerland\", 0, 0, 0, 0, 0, 0, 0, 0),\n",
    "    (\"B\", \"Spain\", 0, 0, 0, 0, 0, 0, 0, 0),\n",
    "    (\"B\", \"Croatia\", 0, 0, 0, 0, 0, 0, 0, 0),\n",
    "    (\"B\", \"Italy\", 0, 0, 0, 0, 0, 0, 0, 0),\n",
    "    (\"B\", \"Albania\", 0, 0, 0, 0, 0, 0, 0, 0),\n",
    "    (\"C\", \"Slovenia\", 0, 0, 0, 0, 0, 0, 0, 0),\n",
    "    (\"C\", \"Denmark\", 0, 0, 0, 0, 0, 0, 0, 0),\n",
    "    (\"C\", \"Serbia\", 0, 0, 0, 0, 0, 0, 0, 0),\n",
    "    (\"C\", \"England\", 0, 0, 0, 0, 0, 0, 0, 0),\n",
    "    (\"D\", \"France\", 0, 0, 0, 0, 0, 0, 0, 0),\n",
    "    (\"D\", \"Netherlands\", 0, 0, 0, 0, 0, 0, 0, 0),\n",
    "    (\"D\", \"Austria\", 0, 0, 0, 0, 0, 0, 0, 0),\n",
    "    (\"D\", \"Finland\", 0, 0, 0, 0, 0, 0, 0, 0),\n",
    "    (\"E\", \"Belgium\", 0, 0, 0, 0, 0, 0, 0, 0),\n",
    "    (\"E\", \"Slovakia\", 0, 0, 0, 0, 0, 0, 0, 0),\n",
    "    (\"E\", \"Romania\", 0, 0, 0, 0, 0, 0, 0, 0),\n",
    "    (\"E\", \"Iceland\", 0, 0, 0, 0, 0, 0, 0, 0),\n",
    "    (\"F\", \"Turkey\", 0, 0, 0, 0, 0, 0, 0, 0),\n",
    "    (\"F\", \"Greece\", 0, 0, 0, 0, 0, 0, 0, 0),\n",
    "    (\"F\", \"Portugal\", 0, 0, 0, 0, 0, 0, 0, 0),\n",
    "    (\"F\", \"Czech Republic\", 0, 0, 0, 0, 0, 0, 0, 0)\n",
    "    # Add more data here\n",
    "]\n",
    "\n",
    "columns = [\"group\", \"team_name\", \"matches_played\", \"wins\", \"draws\", \"losses\", \"goals_scored\", \"goals_conceded\", \"gd\", \"points\"]\n",
    "\n",
    "group_stage_results_df = spark.createDataFrame(data, columns)\n",
    "\n",
    "# Update the group stage results DataFrame based on match results\n",
    "# Update the group stage results DataFrame based on match results\n",
    "updated_results_df = group_stage_results_df.alias(\"gsr\").join(\n",
    "    matches_df.alias(\"matches\"),\n",
    "    (F.col(\"gsr.group\") == F.col(\"matches.group\")) &\n",
    "    ((F.col(\"gsr.team_name\") == F.col(\"matches.team1\")) | (F.col(\"gsr.team_name\") == F.col(\"matches.team2\"))),\n",
    "    \"left\"\n",
    ").withColumn(\n",
    "    \"matches_played\",\n",
    "    F.when((F.col(\"gsr.team_name\") == F.col(\"matches.team1\")) | (F.col(\"gsr.team_name\") == F.col(\"matches.team2\")),\n",
    "           F.col(\"gsr.matches_played\") + 1).otherwise(F.col(\"gsr.matches_played\"))\n",
    ").withColumn(\n",
    "    \"wins\",\n",
    "    F.when((F.col(\"gsr.team_name\") == F.col(\"matches.team1\")) & (F.col(\"matches.goals_team1\") > F.col(\"matches.goals_team2\")),\n",
    "           F.col(\"gsr.wins\") + 1)\n",
    "    .when((F.col(\"gsr.team_name\") == F.col(\"matches.team2\")) & (F.col(\"matches.goals_team2\") > F.col(\"matches.goals_team1\")),\n",
    "          F.col(\"gsr.wins\") + 1)\n",
    "    .otherwise(F.col(\"gsr.wins\"))\n",
    ").withColumn(\n",
    "    \"draws\",\n",
    "    F.when(((F.col(\"gsr.team_name\") == F.col(\"matches.team1\")) | (F.col(\"gsr.team_name\") == F.col(\"matches.team2\"))) &\n",
    "           (F.col(\"matches.goals_team1\") == F.col(\"matches.goals_team2\")), F.col(\"gsr.draws\") + 1)\n",
    "    .otherwise(F.col(\"gsr.draws\"))\n",
    ").withColumn(\n",
    "    \"losses\",\n",
    "    F.when((F.col(\"gsr.team_name\") == F.col(\"matches.team1\")) & (F.col(\"matches.goals_team1\") < F.col(\"matches.goals_team2\")),\n",
    "           F.col(\"gsr.losses\") + 1)\n",
    "    .when((F.col(\"gsr.team_name\") == F.col(\"matches.team2\")) & (F.col(\"matches.goals_team2\") < F.col(\"matches.goals_team1\")),\n",
    "          F.col(\"gsr.losses\") + 1)\n",
    "    .otherwise(F.col(\"gsr.losses\"))\n",
    ").withColumn(\n",
    "    \"goals_scored\",\n",
    "    F.when(F.col(\"gsr.team_name\") == F.col(\"matches.team1\"), F.col(\"gsr.goals_scored\") + F.col(\"matches.goals_team1\")).otherwise(\n",
    "        F.col(\"gsr.goals_scored\"))\n",
    ").withColumn(\n",
    "    \"goals_conceded\",\n",
    "    F.when(F.col(\"gsr.team_name\") == F.col(\"matches.team1\"), F.col(\"gsr.goals_conceded\") + F.col(\"matches.goals_team2\")).otherwise(\n",
    "        F.col(\"gsr.goals_conceded\"))\n",
    ").withColumn(\n",
    "    \"gd\",\n",
    "    F.col(\"goals_scored\") - F.col(\"goals_conceded\")\n",
    ").withColumn(\n",
    "    \"points\",\n",
    "    (F.col(\"wins\") * 3) + F.col(\"draws\")\n",
    ").select(\"gsr.group\", \"gsr.team_name\", \"matches_played\", \"wins\", \"draws\", \"losses\", \"goals_scored\", \"goals_conceded\", \"gd\", \"points\")\n",
    "\n",
    "display(updated_results_df)\n"
   ]
  },
  {
   "cell_type": "code",
   "execution_count": 0,
   "metadata": {
    "application/vnd.databricks.v1+cell": {
     "cellMetadata": {
      "byteLimit": 2048000,
      "rowLimit": 10000
     },
     "inputWidgets": {},
     "nuid": "54bb72e9-e160-4b15-8b18-bc86fde10af3",
     "showTitle": false,
     "title": ""
    }
   },
   "outputs": [
    {
     "output_type": "display_data",
     "data": {
      "text/html": [
       "<style scoped>\n",
       "  .table-result-container {\n",
       "    max-height: 300px;\n",
       "    overflow: auto;\n",
       "  }\n",
       "  table, th, td {\n",
       "    border: 1px solid black;\n",
       "    border-collapse: collapse;\n",
       "  }\n",
       "  th, td {\n",
       "    padding: 5px;\n",
       "  }\n",
       "  th {\n",
       "    text-align: left;\n",
       "  }\n",
       "</style><div class='table-result-container'><table class='table-result'><thead style='background-color: white'><tr><th>team_name</th><th>group</th><th>matches_played</th><th>wins</th><th>draws</th><th>losses</th><th>goals_scored</th><th>goals_conceded</th><th>gd</th><th>points</th></tr></thead><tbody><tr><td>Germany</td><td>A</td><td>3</td><td>1</td><td>0</td><td>2</td><td>8</td><td>10</td><td>-2</td><td>3</td></tr><tr><td>Scotland</td><td>A</td><td>3</td><td>0</td><td>0</td><td>3</td><td>6</td><td>8</td><td>-2</td><td>0</td></tr><tr><td>Hungary</td><td>A</td><td>3</td><td>2</td><td>0</td><td>1</td><td>3</td><td>5</td><td>-2</td><td>6</td></tr><tr><td>Spain</td><td>B</td><td>3</td><td>3</td><td>0</td><td>0</td><td>15</td><td>9</td><td>6</td><td>9</td></tr><tr><td>Croatia</td><td>B</td><td>3</td><td>1</td><td>0</td><td>2</td><td>2</td><td>4</td><td>-2</td><td>3</td></tr><tr><td>Switzerland</td><td>A</td><td>3</td><td>3</td><td>0</td><td>0</td><td>0</td><td>0</td><td>0</td><td>9</td></tr><tr><td>Italy</td><td>B</td><td>3</td><td>0</td><td>0</td><td>3</td><td>3</td><td>5</td><td>-2</td><td>0</td></tr><tr><td>Albania</td><td>B</td><td>3</td><td>2</td><td>0</td><td>1</td><td>0</td><td>0</td><td>0</td><td>6</td></tr><tr><td>Slovenia</td><td>C</td><td>3</td><td>1</td><td>0</td><td>2</td><td>7</td><td>10</td><td>-3</td><td>3</td></tr><tr><td>Denmark</td><td>C</td><td>3</td><td>1</td><td>0</td><td>2</td><td>1</td><td>7</td><td>-6</td><td>3</td></tr><tr><td>Serbia</td><td>C</td><td>3</td><td>2</td><td>1</td><td>0</td><td>5</td><td>5</td><td>0</td><td>7</td></tr><tr><td>England</td><td>C</td><td>3</td><td>1</td><td>1</td><td>1</td><td>0</td><td>0</td><td>0</td><td>4</td></tr><tr><td>France</td><td>D</td><td>3</td><td>2</td><td>0</td><td>1</td><td>3</td><td>6</td><td>-3</td><td>6</td></tr><tr><td>Netherlands</td><td>D</td><td>3</td><td>3</td><td>0</td><td>0</td><td>10</td><td>4</td><td>6</td><td>9</td></tr><tr><td>Austria</td><td>D</td><td>3</td><td>1</td><td>0</td><td>2</td><td>4</td><td>3</td><td>1</td><td>3</td></tr><tr><td>Belgium</td><td>E</td><td>3</td><td>0</td><td>0</td><td>3</td><td>8</td><td>15</td><td>-7</td><td>0</td></tr><tr><td>Slovakia</td><td>E</td><td>3</td><td>2</td><td>0</td><td>1</td><td>4</td><td>5</td><td>-1</td><td>6</td></tr><tr><td>Finland</td><td>D</td><td>3</td><td>0</td><td>0</td><td>3</td><td>0</td><td>0</td><td>0</td><td>0</td></tr><tr><td>Turkey</td><td>F</td><td>3</td><td>1</td><td>0</td><td>2</td><td>9</td><td>13</td><td>-4</td><td>3</td></tr><tr><td>Romania</td><td>E</td><td>3</td><td>3</td><td>0</td><td>0</td><td>5</td><td>1</td><td>4</td><td>9</td></tr><tr><td>Iceland</td><td>E</td><td>3</td><td>1</td><td>0</td><td>2</td><td>0</td><td>0</td><td>0</td><td>3</td></tr><tr><td>Greece</td><td>F</td><td>3</td><td>3</td><td>0</td><td>0</td><td>7</td><td>2</td><td>5</td><td>9</td></tr><tr><td>Portugal</td><td>F</td><td>3</td><td>1</td><td>0</td><td>2</td><td>2</td><td>4</td><td>-2</td><td>3</td></tr><tr><td>Czech Republic</td><td>F</td><td>3</td><td>1</td><td>0</td><td>2</td><td>0</td><td>0</td><td>0</td><td>3</td></tr></tbody></table></div>"
      ]
     },
     "metadata": {
      "application/vnd.databricks.v1+output": {
       "addedWidgets": {},
       "aggData": [],
       "aggError": "",
       "aggOverflow": false,
       "aggSchema": [],
       "aggSeriesLimitReached": false,
       "aggType": "",
       "arguments": {},
       "columnCustomDisplayInfos": {},
       "data": [
        [
         "Germany",
         "A",
         3,
         1,
         0,
         2,
         8,
         10,
         -2,
         3
        ],
        [
         "Scotland",
         "A",
         3,
         0,
         0,
         3,
         6,
         8,
         -2,
         0
        ],
        [
         "Hungary",
         "A",
         3,
         2,
         0,
         1,
         3,
         5,
         -2,
         6
        ],
        [
         "Spain",
         "B",
         3,
         3,
         0,
         0,
         15,
         9,
         6,
         9
        ],
        [
         "Croatia",
         "B",
         3,
         1,
         0,
         2,
         2,
         4,
         -2,
         3
        ],
        [
         "Switzerland",
         "A",
         3,
         3,
         0,
         0,
         0,
         0,
         0,
         9
        ],
        [
         "Italy",
         "B",
         3,
         0,
         0,
         3,
         3,
         5,
         -2,
         0
        ],
        [
         "Albania",
         "B",
         3,
         2,
         0,
         1,
         0,
         0,
         0,
         6
        ],
        [
         "Slovenia",
         "C",
         3,
         1,
         0,
         2,
         7,
         10,
         -3,
         3
        ],
        [
         "Denmark",
         "C",
         3,
         1,
         0,
         2,
         1,
         7,
         -6,
         3
        ],
        [
         "Serbia",
         "C",
         3,
         2,
         1,
         0,
         5,
         5,
         0,
         7
        ],
        [
         "England",
         "C",
         3,
         1,
         1,
         1,
         0,
         0,
         0,
         4
        ],
        [
         "France",
         "D",
         3,
         2,
         0,
         1,
         3,
         6,
         -3,
         6
        ],
        [
         "Netherlands",
         "D",
         3,
         3,
         0,
         0,
         10,
         4,
         6,
         9
        ],
        [
         "Austria",
         "D",
         3,
         1,
         0,
         2,
         4,
         3,
         1,
         3
        ],
        [
         "Belgium",
         "E",
         3,
         0,
         0,
         3,
         8,
         15,
         -7,
         0
        ],
        [
         "Slovakia",
         "E",
         3,
         2,
         0,
         1,
         4,
         5,
         -1,
         6
        ],
        [
         "Finland",
         "D",
         3,
         0,
         0,
         3,
         0,
         0,
         0,
         0
        ],
        [
         "Turkey",
         "F",
         3,
         1,
         0,
         2,
         9,
         13,
         -4,
         3
        ],
        [
         "Romania",
         "E",
         3,
         3,
         0,
         0,
         5,
         1,
         4,
         9
        ],
        [
         "Iceland",
         "E",
         3,
         1,
         0,
         2,
         0,
         0,
         0,
         3
        ],
        [
         "Greece",
         "F",
         3,
         3,
         0,
         0,
         7,
         2,
         5,
         9
        ],
        [
         "Portugal",
         "F",
         3,
         1,
         0,
         2,
         2,
         4,
         -2,
         3
        ],
        [
         "Czech Republic",
         "F",
         3,
         1,
         0,
         2,
         0,
         0,
         0,
         3
        ]
       ],
       "datasetInfos": [],
       "dbfsResultPath": null,
       "isJsonSchema": true,
       "metadata": {},
       "overflow": false,
       "plotOptions": {
        "customPlotOptions": {},
        "displayType": "table",
        "pivotAggregation": null,
        "pivotColumns": null,
        "xColumns": null,
        "yColumns": null
       },
       "removedWidgets": [],
       "schema": [
        {
         "metadata": "{}",
         "name": "team_name",
         "type": "\"string\""
        },
        {
         "metadata": "{}",
         "name": "group",
         "type": "\"string\""
        },
        {
         "metadata": "{}",
         "name": "matches_played",
         "type": "\"long\""
        },
        {
         "metadata": "{}",
         "name": "wins",
         "type": "\"long\""
        },
        {
         "metadata": "{}",
         "name": "draws",
         "type": "\"long\""
        },
        {
         "metadata": "{}",
         "name": "losses",
         "type": "\"long\""
        },
        {
         "metadata": "{}",
         "name": "goals_scored",
         "type": "\"long\""
        },
        {
         "metadata": "{}",
         "name": "goals_conceded",
         "type": "\"long\""
        },
        {
         "metadata": "{}",
         "name": "gd",
         "type": "\"long\""
        },
        {
         "metadata": "{}",
         "name": "points",
         "type": "\"long\""
        }
       ],
       "type": "table"
      }
     },
     "output_type": "display_data"
    }
   ],
   "source": [
    "from pyspark.sql.functions import col, sum\n",
    "\n",
    "# Assuming updated_results_df is your DataFrame\n",
    "filtered_df = updated_results_df.filter(col(\"matches_played\").cast(\"int\").isNotNull()) \\\n",
    "                                .filter(col(\"wins\").cast(\"int\").isNotNull()) \\\n",
    "                                .filter(col(\"draws\").cast(\"int\").isNotNull()) \\\n",
    "                                .filter(col(\"losses\").cast(\"int\").isNotNull()) \\\n",
    "                                .filter(col(\"goals_scored\").cast(\"int\").isNotNull()) \\\n",
    "                                .filter(col(\"goals_conceded\").cast(\"int\").isNotNull()) \\\n",
    "                                .filter(col(\"gd\").cast(\"int\").isNotNull()) \\\n",
    "                                .filter(col(\"points\").cast(\"int\").isNotNull())\n",
    "\n",
    "# Aggregating the filtered DataFrame\n",
    "aggregated_df = filtered_df.groupBy(\"team_name\",\"group\").agg(\n",
    "\n",
    "    sum(\"matches_played\").alias(\"matches_played\"),\n",
    "    sum(\"wins\").alias(\"wins\"),\n",
    "    sum(\"draws\").alias(\"draws\"),\n",
    "    sum(\"losses\").alias(\"losses\"),\n",
    "    sum(\"goals_scored\").alias(\"goals_scored\"),\n",
    "    sum(\"goals_conceded\").alias(\"goals_conceded\"),\n",
    "    sum(\"gd\").alias(\"gd\"),\n",
    "    sum(\"points\").alias(\"points\")\n",
    ")\n",
    "\n",
    "# Display the aggregated DataFrame\n",
    "display(aggregated_df)\n"
   ]
  },
  {
   "cell_type": "markdown",
   "metadata": {
    "application/vnd.databricks.v1+cell": {
     "cellMetadata": {
      "byteLimit": 2048000,
      "rowLimit": 10000
     },
     "inputWidgets": {},
     "nuid": "10c0b66d-d032-46bc-9eb7-ecb19ca9595c",
     "showTitle": false,
     "title": ""
    }
   },
   "source": [
    "#group_stage_Table"
   ]
  },
  {
   "cell_type": "code",
   "execution_count": 0,
   "metadata": {
    "application/vnd.databricks.v1+cell": {
     "cellMetadata": {
      "byteLimit": 2048000,
      "rowLimit": 10000
     },
     "inputWidgets": {},
     "nuid": "770606d6-c260-40aa-ad1e-6c1ff6771e84",
     "showTitle": false,
     "title": ""
    }
   },
   "outputs": [
    {
     "output_type": "display_data",
     "data": {
      "text/html": [
       "<style scoped>\n",
       "  .table-result-container {\n",
       "    max-height: 300px;\n",
       "    overflow: auto;\n",
       "  }\n",
       "  table, th, td {\n",
       "    border: 1px solid black;\n",
       "    border-collapse: collapse;\n",
       "  }\n",
       "  th, td {\n",
       "    padding: 5px;\n",
       "  }\n",
       "  th {\n",
       "    text-align: left;\n",
       "  }\n",
       "</style><div class='table-result-container'><table class='table-result'><thead style='background-color: white'><tr><th>team_name</th><th>group</th><th>matches_played</th><th>wins</th><th>draws</th><th>losses</th><th>goals_scored</th><th>goals_conceded</th><th>gd</th><th>points</th><th>rank</th></tr></thead><tbody><tr><td>Switzerland</td><td>A</td><td>3</td><td>3</td><td>0</td><td>0</td><td>0</td><td>0</td><td>0</td><td>9</td><td>1</td></tr><tr><td>Hungary</td><td>A</td><td>3</td><td>2</td><td>0</td><td>1</td><td>3</td><td>5</td><td>-2</td><td>6</td><td>2</td></tr><tr><td>Germany</td><td>A</td><td>3</td><td>1</td><td>0</td><td>2</td><td>8</td><td>10</td><td>-2</td><td>3</td><td>3</td></tr><tr><td>Scotland</td><td>A</td><td>3</td><td>0</td><td>0</td><td>3</td><td>6</td><td>8</td><td>-2</td><td>0</td><td>4</td></tr><tr><td>Spain</td><td>B</td><td>3</td><td>3</td><td>0</td><td>0</td><td>15</td><td>9</td><td>6</td><td>9</td><td>1</td></tr><tr><td>Albania</td><td>B</td><td>3</td><td>2</td><td>0</td><td>1</td><td>0</td><td>0</td><td>0</td><td>6</td><td>2</td></tr><tr><td>Croatia</td><td>B</td><td>3</td><td>1</td><td>0</td><td>2</td><td>2</td><td>4</td><td>-2</td><td>3</td><td>3</td></tr><tr><td>Italy</td><td>B</td><td>3</td><td>0</td><td>0</td><td>3</td><td>3</td><td>5</td><td>-2</td><td>0</td><td>4</td></tr><tr><td>Serbia</td><td>C</td><td>3</td><td>2</td><td>1</td><td>0</td><td>5</td><td>5</td><td>0</td><td>7</td><td>1</td></tr><tr><td>England</td><td>C</td><td>3</td><td>1</td><td>1</td><td>1</td><td>0</td><td>0</td><td>0</td><td>4</td><td>2</td></tr><tr><td>Slovenia</td><td>C</td><td>3</td><td>1</td><td>0</td><td>2</td><td>7</td><td>10</td><td>-3</td><td>3</td><td>3</td></tr><tr><td>Denmark</td><td>C</td><td>3</td><td>1</td><td>0</td><td>2</td><td>1</td><td>7</td><td>-6</td><td>3</td><td>4</td></tr><tr><td>Netherlands</td><td>D</td><td>3</td><td>3</td><td>0</td><td>0</td><td>10</td><td>4</td><td>6</td><td>9</td><td>1</td></tr><tr><td>France</td><td>D</td><td>3</td><td>2</td><td>0</td><td>1</td><td>3</td><td>6</td><td>-3</td><td>6</td><td>2</td></tr><tr><td>Austria</td><td>D</td><td>3</td><td>1</td><td>0</td><td>2</td><td>4</td><td>3</td><td>1</td><td>3</td><td>3</td></tr><tr><td>Finland</td><td>D</td><td>3</td><td>0</td><td>0</td><td>3</td><td>0</td><td>0</td><td>0</td><td>0</td><td>4</td></tr><tr><td>Romania</td><td>E</td><td>3</td><td>3</td><td>0</td><td>0</td><td>5</td><td>1</td><td>4</td><td>9</td><td>1</td></tr><tr><td>Slovakia</td><td>E</td><td>3</td><td>2</td><td>0</td><td>1</td><td>4</td><td>5</td><td>-1</td><td>6</td><td>2</td></tr><tr><td>Iceland</td><td>E</td><td>3</td><td>1</td><td>0</td><td>2</td><td>0</td><td>0</td><td>0</td><td>3</td><td>3</td></tr><tr><td>Belgium</td><td>E</td><td>3</td><td>0</td><td>0</td><td>3</td><td>8</td><td>15</td><td>-7</td><td>0</td><td>4</td></tr><tr><td>Greece</td><td>F</td><td>3</td><td>3</td><td>0</td><td>0</td><td>7</td><td>2</td><td>5</td><td>9</td><td>1</td></tr><tr><td>Czech Republic</td><td>F</td><td>3</td><td>1</td><td>0</td><td>2</td><td>0</td><td>0</td><td>0</td><td>3</td><td>2</td></tr><tr><td>Portugal</td><td>F</td><td>3</td><td>1</td><td>0</td><td>2</td><td>2</td><td>4</td><td>-2</td><td>3</td><td>3</td></tr><tr><td>Turkey</td><td>F</td><td>3</td><td>1</td><td>0</td><td>2</td><td>9</td><td>13</td><td>-4</td><td>3</td><td>4</td></tr></tbody></table></div>"
      ]
     },
     "metadata": {
      "application/vnd.databricks.v1+output": {
       "addedWidgets": {},
       "aggData": [],
       "aggError": "",
       "aggOverflow": false,
       "aggSchema": [],
       "aggSeriesLimitReached": false,
       "aggType": "",
       "arguments": {},
       "columnCustomDisplayInfos": {},
       "data": [
        [
         "Switzerland",
         "A",
         3,
         3,
         0,
         0,
         0,
         0,
         0,
         9,
         1
        ],
        [
         "Hungary",
         "A",
         3,
         2,
         0,
         1,
         3,
         5,
         -2,
         6,
         2
        ],
        [
         "Germany",
         "A",
         3,
         1,
         0,
         2,
         8,
         10,
         -2,
         3,
         3
        ],
        [
         "Scotland",
         "A",
         3,
         0,
         0,
         3,
         6,
         8,
         -2,
         0,
         4
        ],
        [
         "Spain",
         "B",
         3,
         3,
         0,
         0,
         15,
         9,
         6,
         9,
         1
        ],
        [
         "Albania",
         "B",
         3,
         2,
         0,
         1,
         0,
         0,
         0,
         6,
         2
        ],
        [
         "Croatia",
         "B",
         3,
         1,
         0,
         2,
         2,
         4,
         -2,
         3,
         3
        ],
        [
         "Italy",
         "B",
         3,
         0,
         0,
         3,
         3,
         5,
         -2,
         0,
         4
        ],
        [
         "Serbia",
         "C",
         3,
         2,
         1,
         0,
         5,
         5,
         0,
         7,
         1
        ],
        [
         "England",
         "C",
         3,
         1,
         1,
         1,
         0,
         0,
         0,
         4,
         2
        ],
        [
         "Slovenia",
         "C",
         3,
         1,
         0,
         2,
         7,
         10,
         -3,
         3,
         3
        ],
        [
         "Denmark",
         "C",
         3,
         1,
         0,
         2,
         1,
         7,
         -6,
         3,
         4
        ],
        [
         "Netherlands",
         "D",
         3,
         3,
         0,
         0,
         10,
         4,
         6,
         9,
         1
        ],
        [
         "France",
         "D",
         3,
         2,
         0,
         1,
         3,
         6,
         -3,
         6,
         2
        ],
        [
         "Austria",
         "D",
         3,
         1,
         0,
         2,
         4,
         3,
         1,
         3,
         3
        ],
        [
         "Finland",
         "D",
         3,
         0,
         0,
         3,
         0,
         0,
         0,
         0,
         4
        ],
        [
         "Romania",
         "E",
         3,
         3,
         0,
         0,
         5,
         1,
         4,
         9,
         1
        ],
        [
         "Slovakia",
         "E",
         3,
         2,
         0,
         1,
         4,
         5,
         -1,
         6,
         2
        ],
        [
         "Iceland",
         "E",
         3,
         1,
         0,
         2,
         0,
         0,
         0,
         3,
         3
        ],
        [
         "Belgium",
         "E",
         3,
         0,
         0,
         3,
         8,
         15,
         -7,
         0,
         4
        ],
        [
         "Greece",
         "F",
         3,
         3,
         0,
         0,
         7,
         2,
         5,
         9,
         1
        ],
        [
         "Czech Republic",
         "F",
         3,
         1,
         0,
         2,
         0,
         0,
         0,
         3,
         2
        ],
        [
         "Portugal",
         "F",
         3,
         1,
         0,
         2,
         2,
         4,
         -2,
         3,
         3
        ],
        [
         "Turkey",
         "F",
         3,
         1,
         0,
         2,
         9,
         13,
         -4,
         3,
         4
        ]
       ],
       "datasetInfos": [],
       "dbfsResultPath": null,
       "isJsonSchema": true,
       "metadata": {},
       "overflow": false,
       "plotOptions": {
        "customPlotOptions": {},
        "displayType": "table",
        "pivotAggregation": null,
        "pivotColumns": null,
        "xColumns": null,
        "yColumns": null
       },
       "removedWidgets": [],
       "schema": [
        {
         "metadata": "{}",
         "name": "team_name",
         "type": "\"string\""
        },
        {
         "metadata": "{}",
         "name": "group",
         "type": "\"string\""
        },
        {
         "metadata": "{}",
         "name": "matches_played",
         "type": "\"long\""
        },
        {
         "metadata": "{}",
         "name": "wins",
         "type": "\"long\""
        },
        {
         "metadata": "{}",
         "name": "draws",
         "type": "\"long\""
        },
        {
         "metadata": "{}",
         "name": "losses",
         "type": "\"long\""
        },
        {
         "metadata": "{}",
         "name": "goals_scored",
         "type": "\"long\""
        },
        {
         "metadata": "{}",
         "name": "goals_conceded",
         "type": "\"long\""
        },
        {
         "metadata": "{}",
         "name": "gd",
         "type": "\"long\""
        },
        {
         "metadata": "{}",
         "name": "points",
         "type": "\"long\""
        },
        {
         "metadata": "{}",
         "name": "rank",
         "type": "\"integer\""
        }
       ],
       "type": "table"
      }
     },
     "output_type": "display_data"
    }
   ],
   "source": [
    "# Create a window specification to partition by group and order by points descending\n",
    "window_spec = Window.partitionBy(\"group\").orderBy(F.col(\"points\").desc(), F.col(\"gd\").desc())\n",
    "\n",
    "# Add a row number column based on the window specification\n",
    "ranked_df = aggregated_df.withColumn(\"rank\", F.row_number().over(window_spec))\n",
    "display(ranked_df)"
   ]
  },
  {
   "cell_type": "code",
   "execution_count": 0,
   "metadata": {
    "application/vnd.databricks.v1+cell": {
     "cellMetadata": {
      "byteLimit": 2048000,
      "rowLimit": 10000
     },
     "inputWidgets": {},
     "nuid": "300b1f62-c0c6-4481-978f-216d891d2cb8",
     "showTitle": true,
     "title": ""
    }
   },
   "outputs": [
    {
     "output_type": "display_data",
     "data": {
      "text/html": [
       "<style scoped>\n",
       "  .table-result-container {\n",
       "    max-height: 300px;\n",
       "    overflow: auto;\n",
       "  }\n",
       "  table, th, td {\n",
       "    border: 1px solid black;\n",
       "    border-collapse: collapse;\n",
       "  }\n",
       "  th, td {\n",
       "    padding: 5px;\n",
       "  }\n",
       "  th {\n",
       "    text-align: left;\n",
       "  }\n",
       "</style><div class='table-result-container'><table class='table-result'><thead style='background-color: white'><tr><th>team_name</th><th>group</th><th>matches_played</th><th>wins</th><th>draws</th><th>losses</th><th>goals_scored</th><th>goals_conceded</th><th>gd</th><th>points</th><th>rank</th></tr></thead><tbody><tr><td>Switzerland</td><td>A</td><td>3</td><td>3</td><td>0</td><td>0</td><td>0</td><td>0</td><td>0</td><td>9</td><td>1</td></tr><tr><td>Hungary</td><td>A</td><td>3</td><td>2</td><td>0</td><td>1</td><td>3</td><td>5</td><td>-2</td><td>6</td><td>2</td></tr><tr><td>Spain</td><td>B</td><td>3</td><td>3</td><td>0</td><td>0</td><td>15</td><td>9</td><td>6</td><td>9</td><td>1</td></tr><tr><td>Albania</td><td>B</td><td>3</td><td>2</td><td>0</td><td>1</td><td>0</td><td>0</td><td>0</td><td>6</td><td>2</td></tr><tr><td>Serbia</td><td>C</td><td>3</td><td>2</td><td>1</td><td>0</td><td>5</td><td>5</td><td>0</td><td>7</td><td>1</td></tr><tr><td>England</td><td>C</td><td>3</td><td>1</td><td>1</td><td>1</td><td>0</td><td>0</td><td>0</td><td>4</td><td>2</td></tr><tr><td>Netherlands</td><td>D</td><td>3</td><td>3</td><td>0</td><td>0</td><td>10</td><td>4</td><td>6</td><td>9</td><td>1</td></tr><tr><td>France</td><td>D</td><td>3</td><td>2</td><td>0</td><td>1</td><td>3</td><td>6</td><td>-3</td><td>6</td><td>2</td></tr><tr><td>Romania</td><td>E</td><td>3</td><td>3</td><td>0</td><td>0</td><td>5</td><td>1</td><td>4</td><td>9</td><td>1</td></tr><tr><td>Slovakia</td><td>E</td><td>3</td><td>2</td><td>0</td><td>1</td><td>4</td><td>5</td><td>-1</td><td>6</td><td>2</td></tr><tr><td>Greece</td><td>F</td><td>3</td><td>3</td><td>0</td><td>0</td><td>7</td><td>2</td><td>5</td><td>9</td><td>1</td></tr><tr><td>Czech Republic</td><td>F</td><td>3</td><td>1</td><td>0</td><td>2</td><td>0</td><td>0</td><td>0</td><td>3</td><td>2</td></tr><tr><td>Austria</td><td>D</td><td>3</td><td>1</td><td>0</td><td>2</td><td>4</td><td>3</td><td>1</td><td>3</td><td>3</td></tr><tr><td>Iceland</td><td>E</td><td>3</td><td>1</td><td>0</td><td>2</td><td>0</td><td>0</td><td>0</td><td>3</td><td>3</td></tr><tr><td>Germany</td><td>A</td><td>3</td><td>1</td><td>0</td><td>2</td><td>8</td><td>10</td><td>-2</td><td>3</td><td>3</td></tr><tr><td>Croatia</td><td>B</td><td>3</td><td>1</td><td>0</td><td>2</td><td>2</td><td>4</td><td>-2</td><td>3</td><td>3</td></tr></tbody></table></div>"
      ]
     },
     "metadata": {
      "application/vnd.databricks.v1+output": {
       "addedWidgets": {},
       "aggData": [],
       "aggError": "",
       "aggOverflow": false,
       "aggSchema": [],
       "aggSeriesLimitReached": false,
       "aggType": "",
       "arguments": {},
       "columnCustomDisplayInfos": {},
       "data": [
        [
         "Switzerland",
         "A",
         3,
         3,
         0,
         0,
         0,
         0,
         0,
         9,
         1
        ],
        [
         "Hungary",
         "A",
         3,
         2,
         0,
         1,
         3,
         5,
         -2,
         6,
         2
        ],
        [
         "Spain",
         "B",
         3,
         3,
         0,
         0,
         15,
         9,
         6,
         9,
         1
        ],
        [
         "Albania",
         "B",
         3,
         2,
         0,
         1,
         0,
         0,
         0,
         6,
         2
        ],
        [
         "Serbia",
         "C",
         3,
         2,
         1,
         0,
         5,
         5,
         0,
         7,
         1
        ],
        [
         "England",
         "C",
         3,
         1,
         1,
         1,
         0,
         0,
         0,
         4,
         2
        ],
        [
         "Netherlands",
         "D",
         3,
         3,
         0,
         0,
         10,
         4,
         6,
         9,
         1
        ],
        [
         "France",
         "D",
         3,
         2,
         0,
         1,
         3,
         6,
         -3,
         6,
         2
        ],
        [
         "Romania",
         "E",
         3,
         3,
         0,
         0,
         5,
         1,
         4,
         9,
         1
        ],
        [
         "Slovakia",
         "E",
         3,
         2,
         0,
         1,
         4,
         5,
         -1,
         6,
         2
        ],
        [
         "Greece",
         "F",
         3,
         3,
         0,
         0,
         7,
         2,
         5,
         9,
         1
        ],
        [
         "Czech Republic",
         "F",
         3,
         1,
         0,
         2,
         0,
         0,
         0,
         3,
         2
        ],
        [
         "Austria",
         "D",
         3,
         1,
         0,
         2,
         4,
         3,
         1,
         3,
         3
        ],
        [
         "Iceland",
         "E",
         3,
         1,
         0,
         2,
         0,
         0,
         0,
         3,
         3
        ],
        [
         "Germany",
         "A",
         3,
         1,
         0,
         2,
         8,
         10,
         -2,
         3,
         3
        ],
        [
         "Croatia",
         "B",
         3,
         1,
         0,
         2,
         2,
         4,
         -2,
         3,
         3
        ]
       ],
       "datasetInfos": [],
       "dbfsResultPath": null,
       "isJsonSchema": true,
       "metadata": {},
       "overflow": false,
       "plotOptions": {
        "customPlotOptions": {},
        "displayType": "table",
        "pivotAggregation": null,
        "pivotColumns": null,
        "xColumns": null,
        "yColumns": null
       },
       "removedWidgets": [],
       "schema": [
        {
         "metadata": "{}",
         "name": "team_name",
         "type": "\"string\""
        },
        {
         "metadata": "{}",
         "name": "group",
         "type": "\"string\""
        },
        {
         "metadata": "{}",
         "name": "matches_played",
         "type": "\"long\""
        },
        {
         "metadata": "{}",
         "name": "wins",
         "type": "\"long\""
        },
        {
         "metadata": "{}",
         "name": "draws",
         "type": "\"long\""
        },
        {
         "metadata": "{}",
         "name": "losses",
         "type": "\"long\""
        },
        {
         "metadata": "{}",
         "name": "goals_scored",
         "type": "\"long\""
        },
        {
         "metadata": "{}",
         "name": "goals_conceded",
         "type": "\"long\""
        },
        {
         "metadata": "{}",
         "name": "gd",
         "type": "\"long\""
        },
        {
         "metadata": "{}",
         "name": "points",
         "type": "\"long\""
        },
        {
         "metadata": "{}",
         "name": "rank",
         "type": "\"integer\""
        }
       ],
       "type": "table"
      }
     },
     "output_type": "display_data"
    }
   ],
   "source": [
    "\n",
    "\n",
    "# Filter the ranked DataFrame to select the top 2 teams from each group\n",
    "top2_teams_df = ranked_df.filter(F.col(\"rank\") <= 2)\n",
    "\n",
    "# Select the third-placed team from each group\n",
    "third_place_df = ranked_df.filter(F.col(\"rank\") == 3)\n",
    "\n",
    "# Select the top 4 teams overall based on points\n",
    "top_4_teams_df = third_place_df.orderBy(F.col(\"points\").desc(), F.col(\"gd\").desc()).limit(4)\n",
    "\n",
    "# Combine the third-placed teams and the top 4 teams overall\n",
    "group_stage_selected_teams = top2_teams_df.union(top_4_teams_df)\n",
    "\n",
    "display(group_stage_selected_teams)\n"
   ]
  },
  {
   "cell_type": "code",
   "execution_count": 0,
   "metadata": {
    "application/vnd.databricks.v1+cell": {
     "cellMetadata": {
      "byteLimit": 2048000,
      "rowLimit": 10000
     },
     "inputWidgets": {},
     "nuid": "0e7cfbf9-94c0-4f04-bf24-a29fffb32177",
     "showTitle": false,
     "title": ""
    }
   },
   "outputs": [
    {
     "output_type": "display_data",
     "data": {
      "text/html": [
       "<style scoped>\n",
       "  .table-result-container {\n",
       "    max-height: 300px;\n",
       "    overflow: auto;\n",
       "  }\n",
       "  table, th, td {\n",
       "    border: 1px solid black;\n",
       "    border-collapse: collapse;\n",
       "  }\n",
       "  th, td {\n",
       "    padding: 5px;\n",
       "  }\n",
       "  th {\n",
       "    text-align: left;\n",
       "  }\n",
       "</style><div class='table-result-container'><table class='table-result'><thead style='background-color: white'><tr><th>team_name</th><th>group</th><th>Group_no</th><th>matches_played</th><th>wins</th><th>draws</th><th>losses</th><th>goals_scored</th><th>goals_conceded</th><th>gd</th><th>points</th><th>rank</th></tr></thead><tbody><tr><td>Switzerland</td><td>A</td><td>1A</td><td>3</td><td>3</td><td>0</td><td>0</td><td>0</td><td>0</td><td>0</td><td>9</td><td>1</td></tr><tr><td>Hungary</td><td>A</td><td>2A</td><td>3</td><td>2</td><td>0</td><td>1</td><td>3</td><td>5</td><td>-2</td><td>6</td><td>2</td></tr><tr><td>Spain</td><td>B</td><td>1B</td><td>3</td><td>3</td><td>0</td><td>0</td><td>15</td><td>9</td><td>6</td><td>9</td><td>1</td></tr><tr><td>Albania</td><td>B</td><td>2B</td><td>3</td><td>2</td><td>0</td><td>1</td><td>0</td><td>0</td><td>0</td><td>6</td><td>2</td></tr><tr><td>Serbia</td><td>C</td><td>1C</td><td>3</td><td>2</td><td>1</td><td>0</td><td>5</td><td>5</td><td>0</td><td>7</td><td>1</td></tr><tr><td>England</td><td>C</td><td>2C</td><td>3</td><td>1</td><td>1</td><td>1</td><td>0</td><td>0</td><td>0</td><td>4</td><td>2</td></tr><tr><td>Netherlands</td><td>D</td><td>1D</td><td>3</td><td>3</td><td>0</td><td>0</td><td>10</td><td>4</td><td>6</td><td>9</td><td>1</td></tr><tr><td>France</td><td>D</td><td>2D</td><td>3</td><td>2</td><td>0</td><td>1</td><td>3</td><td>6</td><td>-3</td><td>6</td><td>2</td></tr><tr><td>Romania</td><td>E</td><td>1E</td><td>3</td><td>3</td><td>0</td><td>0</td><td>5</td><td>1</td><td>4</td><td>9</td><td>1</td></tr><tr><td>Slovakia</td><td>E</td><td>2E</td><td>3</td><td>2</td><td>0</td><td>1</td><td>4</td><td>5</td><td>-1</td><td>6</td><td>2</td></tr><tr><td>Greece</td><td>F</td><td>1F</td><td>3</td><td>3</td><td>0</td><td>0</td><td>7</td><td>2</td><td>5</td><td>9</td><td>1</td></tr><tr><td>Czech Republic</td><td>F</td><td>2F</td><td>3</td><td>1</td><td>0</td><td>2</td><td>0</td><td>0</td><td>0</td><td>3</td><td>2</td></tr><tr><td>Austria</td><td>D</td><td>3D</td><td>3</td><td>1</td><td>0</td><td>2</td><td>4</td><td>3</td><td>1</td><td>3</td><td>3</td></tr><tr><td>Iceland</td><td>E</td><td>3E</td><td>3</td><td>1</td><td>0</td><td>2</td><td>0</td><td>0</td><td>0</td><td>3</td><td>3</td></tr><tr><td>Germany</td><td>A</td><td>3A</td><td>3</td><td>1</td><td>0</td><td>2</td><td>8</td><td>10</td><td>-2</td><td>3</td><td>3</td></tr><tr><td>Croatia</td><td>B</td><td>3B</td><td>3</td><td>1</td><td>0</td><td>2</td><td>2</td><td>4</td><td>-2</td><td>3</td><td>3</td></tr></tbody></table></div>"
      ]
     },
     "metadata": {
      "application/vnd.databricks.v1+output": {
       "addedWidgets": {},
       "aggData": [],
       "aggError": "",
       "aggOverflow": false,
       "aggSchema": [],
       "aggSeriesLimitReached": false,
       "aggType": "",
       "arguments": {},
       "columnCustomDisplayInfos": {},
       "data": [
        [
         "Switzerland",
         "A",
         "1A",
         3,
         3,
         0,
         0,
         0,
         0,
         0,
         9,
         1
        ],
        [
         "Hungary",
         "A",
         "2A",
         3,
         2,
         0,
         1,
         3,
         5,
         -2,
         6,
         2
        ],
        [
         "Spain",
         "B",
         "1B",
         3,
         3,
         0,
         0,
         15,
         9,
         6,
         9,
         1
        ],
        [
         "Albania",
         "B",
         "2B",
         3,
         2,
         0,
         1,
         0,
         0,
         0,
         6,
         2
        ],
        [
         "Serbia",
         "C",
         "1C",
         3,
         2,
         1,
         0,
         5,
         5,
         0,
         7,
         1
        ],
        [
         "England",
         "C",
         "2C",
         3,
         1,
         1,
         1,
         0,
         0,
         0,
         4,
         2
        ],
        [
         "Netherlands",
         "D",
         "1D",
         3,
         3,
         0,
         0,
         10,
         4,
         6,
         9,
         1
        ],
        [
         "France",
         "D",
         "2D",
         3,
         2,
         0,
         1,
         3,
         6,
         -3,
         6,
         2
        ],
        [
         "Romania",
         "E",
         "1E",
         3,
         3,
         0,
         0,
         5,
         1,
         4,
         9,
         1
        ],
        [
         "Slovakia",
         "E",
         "2E",
         3,
         2,
         0,
         1,
         4,
         5,
         -1,
         6,
         2
        ],
        [
         "Greece",
         "F",
         "1F",
         3,
         3,
         0,
         0,
         7,
         2,
         5,
         9,
         1
        ],
        [
         "Czech Republic",
         "F",
         "2F",
         3,
         1,
         0,
         2,
         0,
         0,
         0,
         3,
         2
        ],
        [
         "Austria",
         "D",
         "3D",
         3,
         1,
         0,
         2,
         4,
         3,
         1,
         3,
         3
        ],
        [
         "Iceland",
         "E",
         "3E",
         3,
         1,
         0,
         2,
         0,
         0,
         0,
         3,
         3
        ],
        [
         "Germany",
         "A",
         "3A",
         3,
         1,
         0,
         2,
         8,
         10,
         -2,
         3,
         3
        ],
        [
         "Croatia",
         "B",
         "3B",
         3,
         1,
         0,
         2,
         2,
         4,
         -2,
         3,
         3
        ]
       ],
       "datasetInfos": [],
       "dbfsResultPath": null,
       "isJsonSchema": true,
       "metadata": {},
       "overflow": false,
       "plotOptions": {
        "customPlotOptions": {},
        "displayType": "table",
        "pivotAggregation": null,
        "pivotColumns": null,
        "xColumns": null,
        "yColumns": null
       },
       "removedWidgets": [],
       "schema": [
        {
         "metadata": "{}",
         "name": "team_name",
         "type": "\"string\""
        },
        {
         "metadata": "{}",
         "name": "group",
         "type": "\"string\""
        },
        {
         "metadata": "{}",
         "name": "Group_no",
         "type": "\"string\""
        },
        {
         "metadata": "{}",
         "name": "matches_played",
         "type": "\"long\""
        },
        {
         "metadata": "{}",
         "name": "wins",
         "type": "\"long\""
        },
        {
         "metadata": "{}",
         "name": "draws",
         "type": "\"long\""
        },
        {
         "metadata": "{}",
         "name": "losses",
         "type": "\"long\""
        },
        {
         "metadata": "{}",
         "name": "goals_scored",
         "type": "\"long\""
        },
        {
         "metadata": "{}",
         "name": "goals_conceded",
         "type": "\"long\""
        },
        {
         "metadata": "{}",
         "name": "gd",
         "type": "\"long\""
        },
        {
         "metadata": "{}",
         "name": "points",
         "type": "\"long\""
        },
        {
         "metadata": "{}",
         "name": "rank",
         "type": "\"integer\""
        }
       ],
       "type": "table"
      }
     },
     "output_type": "display_data"
    },
    {
     "output_type": "stream",
     "name": "stdout",
     "output_type": "stream",
     "text": [
      "+--------------+-----+--------+--------------+----+-----+------+------------+--------------+---+------+----+\n|     team_name|group|Group_no|matches_played|wins|draws|losses|goals_scored|goals_conceded| gd|points|rank|\n+--------------+-----+--------+--------------+----+-----+------+------------+--------------+---+------+----+\n|   Switzerland|    A|      1A|             3|   3|    0|     0|           0|             0|  0|     9|   1|\n|       Hungary|    A|      2A|             3|   2|    0|     1|           3|             5| -2|     6|   2|\n|         Spain|    B|      1B|             3|   3|    0|     0|          15|             9|  6|     9|   1|\n|       Albania|    B|      2B|             3|   2|    0|     1|           0|             0|  0|     6|   2|\n|        Serbia|    C|      1C|             3|   2|    1|     0|           5|             5|  0|     7|   1|\n|       England|    C|      2C|             3|   1|    1|     1|           0|             0|  0|     4|   2|\n|   Netherlands|    D|      1D|             3|   3|    0|     0|          10|             4|  6|     9|   1|\n|        France|    D|      2D|             3|   2|    0|     1|           3|             6| -3|     6|   2|\n|       Romania|    E|      1E|             3|   3|    0|     0|           5|             1|  4|     9|   1|\n|      Slovakia|    E|      2E|             3|   2|    0|     1|           4|             5| -1|     6|   2|\n|        Greece|    F|      1F|             3|   3|    0|     0|           7|             2|  5|     9|   1|\n|Czech Republic|    F|      2F|             3|   1|    0|     2|           0|             0|  0|     3|   2|\n|       Austria|    D|      3D|             3|   1|    0|     2|           4|             3|  1|     3|   3|\n|       Iceland|    E|      3E|             3|   1|    0|     2|           0|             0|  0|     3|   3|\n|       Germany|    A|      3A|             3|   1|    0|     2|           8|            10| -2|     3|   3|\n|       Croatia|    B|      3B|             3|   1|    0|     2|           2|             4| -2|     3|   3|\n+--------------+-----+--------+--------------+----+-----+------+------------+--------------+---+------+----+\n\n"
     ]
    }
   ],
   "source": [
    "group_stage_selected_teams = group_stage_selected_teams.withColumn(\"Group_no\", F.concat(col(\"rank\"),col(\"group\")))\n",
    "group_stage_selected_teams = group_stage_selected_teams.select(\"team_name\",\"group\",\"Group_no\",\"matches_played\",\"wins\",\"draws\",\"losses\",\"goals_scored\",\"goals_conceded\",\"gd\",\"points\",\"rank\")\n",
    "display(group_stage_selected_teams)\n",
    "group_stage_selected_teams.show()\n",
    "group_stage_selected_teams.createOrReplaceTempView(\"group_stage_selected_teams\")"
   ]
  },
  {
   "cell_type": "markdown",
   "metadata": {
    "application/vnd.databricks.v1+cell": {
     "cellMetadata": {
      "byteLimit": 2048000,
      "rowLimit": 10000
     },
     "inputWidgets": {},
     "nuid": "2e77eab6-8f99-4c5d-b2d3-d4065a1a6c54",
     "showTitle": false,
     "title": ""
    }
   },
   "source": [
    "# group Stage Match logic"
   ]
  },
  {
   "cell_type": "code",
   "execution_count": 0,
   "metadata": {
    "application/vnd.databricks.v1+cell": {
     "cellMetadata": {
      "byteLimit": 2048000,
      "rowLimit": 10000
     },
     "inputWidgets": {},
     "nuid": "ec580fa8-57a8-475c-bf6a-feaff582a492",
     "showTitle": false,
     "title": ""
    }
   },
   "outputs": [
    {
     "output_type": "display_data",
     "data": {
      "text/html": [
       "<style scoped>\n",
       "  .table-result-container {\n",
       "    max-height: 300px;\n",
       "    overflow: auto;\n",
       "  }\n",
       "  table, th, td {\n",
       "    border: 1px solid black;\n",
       "    border-collapse: collapse;\n",
       "  }\n",
       "  th, td {\n",
       "    padding: 5px;\n",
       "  }\n",
       "  th {\n",
       "    text-align: left;\n",
       "  }\n",
       "</style><div class='table-result-container'><table class='table-result'><thead style='background-color: white'><tr><th>team_name</th><th>group</th><th>Group_no</th><th>matches_played</th><th>wins</th><th>draws</th><th>losses</th><th>goals_scored</th><th>goals_conceded</th><th>gd</th><th>points</th><th>rank</th></tr></thead><tbody><tr><td>Austria</td><td>D</td><td>3D</td><td>3</td><td>1</td><td>0</td><td>2</td><td>4</td><td>3</td><td>1</td><td>3</td><td>3</td></tr><tr><td>Iceland</td><td>E</td><td>3E</td><td>3</td><td>1</td><td>0</td><td>2</td><td>0</td><td>0</td><td>0</td><td>3</td><td>3</td></tr><tr><td>Germany</td><td>A</td><td>3A</td><td>3</td><td>1</td><td>0</td><td>2</td><td>8</td><td>10</td><td>-2</td><td>3</td><td>3</td></tr><tr><td>Croatia</td><td>B</td><td>3B</td><td>3</td><td>1</td><td>0</td><td>2</td><td>2</td><td>4</td><td>-2</td><td>3</td><td>3</td></tr></tbody></table></div>"
      ]
     },
     "metadata": {
      "application/vnd.databricks.v1+output": {
       "addedWidgets": {},
       "aggData": [],
       "aggError": "",
       "aggOverflow": false,
       "aggSchema": [],
       "aggSeriesLimitReached": false,
       "aggType": "",
       "arguments": {},
       "columnCustomDisplayInfos": {},
       "data": [
        [
         "Austria",
         "D",
         "3D",
         3,
         1,
         0,
         2,
         4,
         3,
         1,
         3,
         3
        ],
        [
         "Iceland",
         "E",
         "3E",
         3,
         1,
         0,
         2,
         0,
         0,
         0,
         3,
         3
        ],
        [
         "Germany",
         "A",
         "3A",
         3,
         1,
         0,
         2,
         8,
         10,
         -2,
         3,
         3
        ],
        [
         "Croatia",
         "B",
         "3B",
         3,
         1,
         0,
         2,
         2,
         4,
         -2,
         3,
         3
        ]
       ],
       "datasetInfos": [],
       "dbfsResultPath": null,
       "isJsonSchema": true,
       "metadata": {},
       "overflow": false,
       "plotOptions": {
        "customPlotOptions": {},
        "displayType": "table",
        "pivotAggregation": null,
        "pivotColumns": null,
        "xColumns": null,
        "yColumns": null
       },
       "removedWidgets": [],
       "schema": [
        {
         "metadata": "{}",
         "name": "team_name",
         "type": "\"string\""
        },
        {
         "metadata": "{}",
         "name": "group",
         "type": "\"string\""
        },
        {
         "metadata": "{}",
         "name": "Group_no",
         "type": "\"string\""
        },
        {
         "metadata": "{}",
         "name": "matches_played",
         "type": "\"long\""
        },
        {
         "metadata": "{}",
         "name": "wins",
         "type": "\"long\""
        },
        {
         "metadata": "{}",
         "name": "draws",
         "type": "\"long\""
        },
        {
         "metadata": "{}",
         "name": "losses",
         "type": "\"long\""
        },
        {
         "metadata": "{}",
         "name": "goals_scored",
         "type": "\"long\""
        },
        {
         "metadata": "{}",
         "name": "goals_conceded",
         "type": "\"long\""
        },
        {
         "metadata": "{}",
         "name": "gd",
         "type": "\"long\""
        },
        {
         "metadata": "{}",
         "name": "points",
         "type": "\"long\""
        },
        {
         "metadata": "{}",
         "name": "rank",
         "type": "\"integer\""
        }
       ],
       "type": "table"
      }
     },
     "output_type": "display_data"
    },
    {
     "output_type": "stream",
     "name": "stdout",
     "output_type": "stream",
     "text": [
      "+--------+\n|Group_no|\n+--------+\n|      3D|\n|      3E|\n|      3A|\n|      3B|\n+--------+\n\n['3D', '3E', '3A', '3B']\n['3D', '3E', '3A', '3B']\n"
     ]
    },
    {
     "output_type": "display_data",
     "data": {
      "text/html": [
       "<style scoped>\n",
       "  .table-result-container {\n",
       "    max-height: 300px;\n",
       "    overflow: auto;\n",
       "  }\n",
       "  table, th, td {\n",
       "    border: 1px solid black;\n",
       "    border-collapse: collapse;\n",
       "  }\n",
       "  th, td {\n",
       "    padding: 5px;\n",
       "  }\n",
       "  th {\n",
       "    text-align: left;\n",
       "  }\n",
       "</style><div class='table-result-container'><table class='table-result'><thead style='background-color: white'><tr><th>Team1_id</th><th>Team2_id</th></tr></thead><tbody><tr><td>1B</td><td>3D</td></tr><tr><td>1C</td><td>3E</td></tr><tr><td>1E</td><td>3A</td></tr><tr><td>1F</td><td>3B</td></tr></tbody></table></div>"
      ]
     },
     "metadata": {
      "application/vnd.databricks.v1+output": {
       "addedWidgets": {},
       "aggData": [],
       "aggError": "",
       "aggOverflow": false,
       "aggSchema": [],
       "aggSeriesLimitReached": false,
       "aggType": "",
       "arguments": {},
       "columnCustomDisplayInfos": {},
       "data": [
        [
         "1B",
         "3D"
        ],
        [
         "1C",
         "3E"
        ],
        [
         "1E",
         "3A"
        ],
        [
         "1F",
         "3B"
        ]
       ],
       "datasetInfos": [],
       "dbfsResultPath": null,
       "isJsonSchema": true,
       "metadata": {},
       "overflow": false,
       "plotOptions": {
        "customPlotOptions": {},
        "displayType": "table",
        "pivotAggregation": null,
        "pivotColumns": null,
        "xColumns": null,
        "yColumns": null
       },
       "removedWidgets": [],
       "schema": [
        {
         "metadata": "{}",
         "name": "Team1_id",
         "type": "\"string\""
        },
        {
         "metadata": "{}",
         "name": "Team2_id",
         "type": "\"string\""
        }
       ],
       "type": "table"
      }
     },
     "output_type": "display_data"
    },
    {
     "output_type": "stream",
     "name": "stdout",
     "output_type": "stream",
     "text": [
      "+--------+--------+\n|Team1_id|Team2_id|\n+--------+--------+\n|      1B|      3D|\n|      1C|      3E|\n|      1E|      3A|\n|      1F|      3B|\n+--------+--------+\n\n"
     ]
    },
    {
     "output_type": "display_data",
     "data": {
      "text/html": [
       "<style scoped>\n",
       "  .table-result-container {\n",
       "    max-height: 300px;\n",
       "    overflow: auto;\n",
       "  }\n",
       "  table, th, td {\n",
       "    border: 1px solid black;\n",
       "    border-collapse: collapse;\n",
       "  }\n",
       "  th, td {\n",
       "    padding: 5px;\n",
       "  }\n",
       "  th {\n",
       "    text-align: left;\n",
       "  }\n",
       "</style><div class='table-result-container'><table class='table-result'><thead style='background-color: white'><tr><th>Team3_id</th><th>Team4_id</th></tr></thead><tbody><tr><td>1A</td><td>2C</td></tr><tr><td>2D</td><td>2E</td></tr><tr><td>1D</td><td>2F</td></tr><tr><td>2A</td><td>2B</td></tr></tbody></table></div>"
      ]
     },
     "metadata": {
      "application/vnd.databricks.v1+output": {
       "addedWidgets": {},
       "aggData": [],
       "aggError": "",
       "aggOverflow": false,
       "aggSchema": [],
       "aggSeriesLimitReached": false,
       "aggType": "",
       "arguments": {},
       "columnCustomDisplayInfos": {},
       "data": [
        [
         "1A",
         "2C"
        ],
        [
         "2D",
         "2E"
        ],
        [
         "1D",
         "2F"
        ],
        [
         "2A",
         "2B"
        ]
       ],
       "datasetInfos": [],
       "dbfsResultPath": null,
       "isJsonSchema": true,
       "metadata": {},
       "overflow": false,
       "plotOptions": {
        "customPlotOptions": {},
        "displayType": "table",
        "pivotAggregation": null,
        "pivotColumns": null,
        "xColumns": null,
        "yColumns": null
       },
       "removedWidgets": [],
       "schema": [
        {
         "metadata": "{}",
         "name": "Team3_id",
         "type": "\"string\""
        },
        {
         "metadata": "{}",
         "name": "Team4_id",
         "type": "\"string\""
        }
       ],
       "type": "table"
      }
     },
     "output_type": "display_data"
    },
    {
     "output_type": "stream",
     "name": "stdout",
     "output_type": "stream",
     "text": [
      "+--------+--------+\n|Team3_id|Team4_id|\n+--------+--------+\n|      1A|      2C|\n|      2D|      2E|\n|      1D|      2F|\n|      2A|      2B|\n+--------+--------+\n\n"
     ]
    }
   ],
   "source": [
    "matches_list = [\n",
    "    [\"3A\", \"3D\", \"3B\", \"3C\"],\n",
    "    [\"3A\", \"3E\", \"3B\", \"3C\"],\n",
    "    [\"3A\", \"3F\", \"3B\", \"3C\"],\n",
    "    [\"3D\", \"3E\", \"3A\", \"3B\"],\n",
    "    [\"3D\", \"3F\", \"3A\", \"3B\"],\n",
    "    [\"3E\", \"3F\", \"3B\", \"3A\"],\n",
    "    [\"3E\", \"3D\", \"3C\", \"3A\"],\n",
    "    [\"3F\", \"3D\", \"3C\", \"3A\"],\n",
    "    [\"3E\", \"3F\", \"3C\", \"3A\"],\n",
    "    [\"3E\", \"3F\", \"3D\", \"3A\"],\n",
    "    [\"3E\", \"3D\", \"3B\", \"3C\"],\n",
    "    [\"3F\", \"3D\", \"3C\", \"3B\"],\n",
    "    [\"3F\", \"3E\", \"3C\", \"3B\"],\n",
    "    [\"3F\", \"3E\", \"3D\", \"3B\"],\n",
    "    [\"3F\", \"3E\", \"3D\", \"3C\"]\n",
    "]\n",
    "\n",
    "no_3=group_stage_selected_teams.filter(F.col(\"rank\") == 3)\n",
    "display(no_3)\n",
    "no_3_group = no_3.select(F.col(\"Group_no\"))\n",
    "no_3_group.show()\n",
    "no_3_group_list=[row.Group_no for row in no_3_group.collect()]\n",
    "print(no_3_group_list)\n",
    "\n",
    "for i in range (0,len(matches_list)):\n",
    "    if sorted(no_3_group_list) == sorted(matches_list[i]):\n",
    "        team2_list=matches_list[i]\n",
    "        break\n",
    "print(team2_list)\n",
    "\n",
    "team1_list = ['1B','1C','1E','1F']\n",
    "\n",
    "# Combine the lists into a list of tuples\n",
    "data = list(zip(team1_list, team2_list))\n",
    "\n",
    "# Create a DataFrame from the list of tuples\n",
    "df1 = spark.createDataFrame(data, [\"Team1_id\", \"Team2_id\"])\n",
    "display(df1)\n",
    "df1.show()\n",
    "\n",
    "team3_list =['1A','2D','1D','2A']\n",
    "team4_list =['2C','2E','2F','2B']\n",
    "data2 = list(zip(team3_list, team4_list))\n",
    "\n",
    "# Create a DataFrame from the list of tuples\n",
    "df2 = spark.createDataFrame(data2, [\"Team3_id\", \"Team4_id\"])\n",
    "display(df2)\n",
    "df2.show()\n",
    "\n"
   ]
  },
  {
   "cell_type": "markdown",
   "metadata": {
    "application/vnd.databricks.v1+cell": {
     "cellMetadata": {
      "byteLimit": 2048000,
      "rowLimit": 10000
     },
     "inputWidgets": {},
     "nuid": "1f4b8d02-3167-4d0c-9883-73114e540f91",
     "showTitle": false,
     "title": ""
    }
   },
   "source": [
    "#GROUP STAGE MATCHES"
   ]
  },
  {
   "cell_type": "code",
   "execution_count": 0,
   "metadata": {
    "application/vnd.databricks.v1+cell": {
     "cellMetadata": {
      "byteLimit": 2048000,
      "rowLimit": 10000
     },
     "inputWidgets": {},
     "nuid": "5b3c6f3b-df8a-4dde-a1dc-84f39a8ae206",
     "showTitle": false,
     "title": ""
    }
   },
   "outputs": [
    {
     "output_type": "stream",
     "name": "stdout",
     "output_type": "stream",
     "text": [
      "+----------+----------+\n|Team1_name|Team2_name|\n+----------+----------+\n|     Spain|   Austria|\n|    Serbia|   Iceland|\n|   Romania|   Germany|\n|    Greece|   Croatia|\n+----------+----------+\n\n+-----------+--------------+\n| Team3_name|    Team4_name|\n+-----------+--------------+\n|Switzerland|       England|\n|     France|      Slovakia|\n|Netherlands|Czech Republic|\n|    Hungary|       Albania|\n+-----------+--------------+\n\n"
     ]
    }
   ],
   "source": [
    "from pyspark.sql.functions import col\n",
    "\n",
    "# Join with group_stage_selected_teams to get team names for df1\n",
    "df1_team_names = df1.join(\n",
    "    group_stage_selected_teams.withColumnRenamed(\"Group_no\", \"Team1_id\").withColumnRenamed(\"Team_name\", \"Team1_name\"),\n",
    "    \"Team1_id\", \"left\"\n",
    ").join(\n",
    "    group_stage_selected_teams.withColumnRenamed(\"Group_no\", \"Team2_id\").withColumnRenamed(\"Team_name\", \"Team2_name\"),\n",
    "    \"Team2_id\", \"left\"\n",
    ").select(\"Team1_name\", \"Team2_name\")\n",
    "\n",
    "# Join with group_stage_selected_teams to get team names for df2\n",
    "df2_team_names = df2.join(\n",
    "    group_stage_selected_teams.withColumnRenamed(\"Group_no\", \"Team3_id\").withColumnRenamed(\"Team_name\", \"Team3_name\"),\n",
    "    \"Team3_id\", \"left\"\n",
    ").join(\n",
    "    group_stage_selected_teams.withColumnRenamed(\"Group_no\", \"Team4_id\").withColumnRenamed(\"Team_name\", \"Team4_name\"),\n",
    "    \"Team4_id\", \"left\"\n",
    ").select(\"Team3_name\", \"Team4_name\")\n",
    "\n",
    "df1_team_names.show()\n",
    "df2_team_names.show()\n"
   ]
  },
  {
   "cell_type": "code",
   "execution_count": 0,
   "metadata": {
    "application/vnd.databricks.v1+cell": {
     "cellMetadata": {
      "byteLimit": 2048000,
      "rowLimit": 10000
     },
     "inputWidgets": {},
     "nuid": "67441409-b2e0-4df4-a706-5aa839696945",
     "showTitle": false,
     "title": ""
    }
   },
   "outputs": [],
   "source": [
    "window_spec2=Window.orderBy(F.monotonically_increasing_id())\n"
   ]
  },
  {
   "cell_type": "markdown",
   "metadata": {
    "application/vnd.databricks.v1+cell": {
     "cellMetadata": {
      "byteLimit": 2048000,
      "rowLimit": 10000
     },
     "inputWidgets": {},
     "nuid": "3c38a0b5-75ed-4765-8ea5-e0454c727030",
     "showTitle": false,
     "title": ""
    }
   },
   "source": [
    "# GROUP SATGE WINNERS"
   ]
  },
  {
   "cell_type": "code",
   "execution_count": 0,
   "metadata": {
    "application/vnd.databricks.v1+cell": {
     "cellMetadata": {
      "byteLimit": 2048000,
      "rowLimit": 10000
     },
     "inputWidgets": {},
     "nuid": "7394b72a-406e-47f3-a6a6-3d3eae255d19",
     "showTitle": false,
     "title": ""
    }
   },
   "outputs": [
    {
     "output_type": "display_data",
     "data": {
      "text/html": [
       "<style scoped>\n",
       "  .table-result-container {\n",
       "    max-height: 300px;\n",
       "    overflow: auto;\n",
       "  }\n",
       "  table, th, td {\n",
       "    border: 1px solid black;\n",
       "    border-collapse: collapse;\n",
       "  }\n",
       "  th, td {\n",
       "    padding: 5px;\n",
       "  }\n",
       "  th {\n",
       "    text-align: left;\n",
       "  }\n",
       "</style><div class='table-result-container'><table class='table-result'><thead style='background-color: white'><tr><th>Team1_name</th><th>Team2_name</th><th>winner1</th></tr></thead><tbody><tr><td>Spain</td><td>Austria</td><td>Spain</td></tr><tr><td>Serbia</td><td>Iceland</td><td>Iceland</td></tr><tr><td>Romania</td><td>Germany</td><td>Romania</td></tr><tr><td>Greece</td><td>Croatia</td><td>Greece</td></tr></tbody></table></div>"
      ]
     },
     "metadata": {
      "application/vnd.databricks.v1+output": {
       "addedWidgets": {},
       "aggData": [],
       "aggError": "",
       "aggOverflow": false,
       "aggSchema": [],
       "aggSeriesLimitReached": false,
       "aggType": "",
       "arguments": {},
       "columnCustomDisplayInfos": {},
       "data": [
        [
         "Spain",
         "Austria",
         "Spain"
        ],
        [
         "Serbia",
         "Iceland",
         "Iceland"
        ],
        [
         "Romania",
         "Germany",
         "Romania"
        ],
        [
         "Greece",
         "Croatia",
         "Greece"
        ]
       ],
       "datasetInfos": [],
       "dbfsResultPath": null,
       "isJsonSchema": true,
       "metadata": {},
       "overflow": false,
       "plotOptions": {
        "customPlotOptions": {},
        "displayType": "table",
        "pivotAggregation": null,
        "pivotColumns": null,
        "xColumns": null,
        "yColumns": null
       },
       "removedWidgets": [],
       "schema": [
        {
         "metadata": "{}",
         "name": "Team1_name",
         "type": "\"string\""
        },
        {
         "metadata": "{}",
         "name": "Team2_name",
         "type": "\"string\""
        },
        {
         "metadata": "{}",
         "name": "winner1",
         "type": "\"string\""
        }
       ],
       "type": "table"
      }
     },
     "output_type": "display_data"
    },
    {
     "output_type": "stream",
     "name": "stdout",
     "output_type": "stream",
     "text": [
      "+-------+---+\n|winner1| id|\n+-------+---+\n|  Spain|  0|\n|Iceland|  1|\n|Romania|  2|\n| Greece|  3|\n+-------+---+\n\n"
     ]
    },
    {
     "output_type": "display_data",
     "data": {
      "text/html": [
       "<style scoped>\n",
       "  .table-result-container {\n",
       "    max-height: 300px;\n",
       "    overflow: auto;\n",
       "  }\n",
       "  table, th, td {\n",
       "    border: 1px solid black;\n",
       "    border-collapse: collapse;\n",
       "  }\n",
       "  th, td {\n",
       "    padding: 5px;\n",
       "  }\n",
       "  th {\n",
       "    text-align: left;\n",
       "  }\n",
       "</style><div class='table-result-container'><table class='table-result'><thead style='background-color: white'><tr><th>Team3_name</th><th>Team4_name</th><th>winner2</th></tr></thead><tbody><tr><td>Switzerland</td><td>England</td><td>England</td></tr><tr><td>France</td><td>Slovakia</td><td>Slovakia</td></tr><tr><td>Netherlands</td><td>Czech Republic</td><td>Czech Republic</td></tr><tr><td>Hungary</td><td>Albania</td><td>Hungary</td></tr></tbody></table></div>"
      ]
     },
     "metadata": {
      "application/vnd.databricks.v1+output": {
       "addedWidgets": {},
       "aggData": [],
       "aggError": "",
       "aggOverflow": false,
       "aggSchema": [],
       "aggSeriesLimitReached": false,
       "aggType": "",
       "arguments": {},
       "columnCustomDisplayInfos": {},
       "data": [
        [
         "Switzerland",
         "England",
         "England"
        ],
        [
         "France",
         "Slovakia",
         "Slovakia"
        ],
        [
         "Netherlands",
         "Czech Republic",
         "Czech Republic"
        ],
        [
         "Hungary",
         "Albania",
         "Hungary"
        ]
       ],
       "datasetInfos": [],
       "dbfsResultPath": null,
       "isJsonSchema": true,
       "metadata": {},
       "overflow": false,
       "plotOptions": {
        "customPlotOptions": {},
        "displayType": "table",
        "pivotAggregation": null,
        "pivotColumns": null,
        "xColumns": null,
        "yColumns": null
       },
       "removedWidgets": [],
       "schema": [
        {
         "metadata": "{}",
         "name": "Team3_name",
         "type": "\"string\""
        },
        {
         "metadata": "{}",
         "name": "Team4_name",
         "type": "\"string\""
        },
        {
         "metadata": "{}",
         "name": "winner2",
         "type": "\"string\""
        }
       ],
       "type": "table"
      }
     },
     "output_type": "display_data"
    },
    {
     "output_type": "stream",
     "name": "stdout",
     "output_type": "stream",
     "text": [
      "+--------------+---+\n|       winner2| id|\n+--------------+---+\n|       England|  0|\n|      Slovakia|  1|\n|Czech Republic|  2|\n|       Hungary|  3|\n+--------------+---+\n\n"
     ]
    }
   ],
   "source": [
    "# Simulate matches and decide winners\n",
    "winners_knokout_df1 = df1_team_names.withColumn(\"winner1\", F.when(F.rand() > 0.5, F.col(\"Team1_name\")).otherwise(F.col(\"Team2_name\")))\n",
    "\n",
    "display(winners_knokout_df1)\n",
    "\n",
    "# Select the winners of each match\n",
    "winners_knokout_df1 = winners_knokout_df1.select(\"winner1\")\n",
    "\n",
    "winners_knokout_df1 = winners_knokout_df1.withColumn(\"id\",F.row_number().over(window_spec2)-1)\n",
    "\n",
    "# Create temporary view for further query\n",
    "winners_knokout_df1.createOrReplaceTempView(\"winners_knokout_df1\")\n",
    "\n",
    "winners_knokout_df1.show()\n",
    "\n",
    "# Simulate matches and decide winners\n",
    "winners_knokout_df2 = df2_team_names.withColumn(\"winner2\", F.when(F.rand() > 0.5, F.col(\"Team3_name\")).otherwise(F.col(\"Team4_name\")))\n",
    "\n",
    "display(winners_knokout_df2)\n",
    "\n",
    "# Select the winners of each match\n",
    "winners_knokout_df2 = winners_knokout_df2.select(\"winner2\")\n",
    "\n",
    "winners_knokout_df2 = winners_knokout_df2.withColumn(\"id\", F.row_number().over(window_spec2)-1)\n",
    "\n",
    "# Create temporary view for further query\n",
    "winners_knokout_df2.createOrReplaceTempView(\"winners_knokout_df2\")\n",
    "\n",
    "winners_knokout_df2.show()\n",
    "\n"
   ]
  },
  {
   "cell_type": "markdown",
   "metadata": {
    "application/vnd.databricks.v1+cell": {
     "cellMetadata": {
      "byteLimit": 2048000,
      "rowLimit": 10000
     },
     "inputWidgets": {},
     "nuid": "27f49bd6-6ec9-4e70-b7c8-163677d611e6",
     "showTitle": false,
     "title": ""
    }
   },
   "source": [
    "#QUARTER FINAL MATCHES"
   ]
  },
  {
   "cell_type": "code",
   "execution_count": 0,
   "metadata": {
    "application/vnd.databricks.v1+cell": {
     "cellMetadata": {
      "byteLimit": 2048000,
      "rowLimit": 10000
     },
     "inputWidgets": {},
     "nuid": "e3dacf00-b520-45a1-beab-1215cc92da03",
     "showTitle": false,
     "title": ""
    }
   },
   "outputs": [
    {
     "output_type": "stream",
     "name": "stdout",
     "output_type": "stream",
     "text": [
      "+-------+---+--------------+---+\n|winner1| id|       winner2| id|\n+-------+---+--------------+---+\n|  Spain|  0|       England|  0|\n|Iceland|  1|      Slovakia|  1|\n|Romania|  2|Czech Republic|  2|\n| Greece|  3|       Hungary|  3|\n+-------+---+--------------+---+\n\n"
     ]
    }
   ],
   "source": [
    "quarter_final_df=winners_knokout_df1.join(winners_knokout_df2 ,winners_knokout_df1.id == winners_knokout_df2.id)\n",
    "quarter_final_df.show()"
   ]
  },
  {
   "cell_type": "markdown",
   "metadata": {
    "application/vnd.databricks.v1+cell": {
     "cellMetadata": {
      "byteLimit": 2048000,
      "rowLimit": 10000
     },
     "inputWidgets": {},
     "nuid": "a4b97da1-15e1-4a42-9600-6bef0c9e45fd",
     "showTitle": false,
     "title": ""
    }
   },
   "source": [
    "#QUARTER FINAL WINNERS"
   ]
  },
  {
   "cell_type": "code",
   "execution_count": 0,
   "metadata": {
    "application/vnd.databricks.v1+cell": {
     "cellMetadata": {
      "byteLimit": 2048000,
      "rowLimit": 10000
     },
     "inputWidgets": {},
     "nuid": "caf44b4d-5fed-4868-b817-5daedd5797ad",
     "showTitle": false,
     "title": ""
    }
   },
   "outputs": [
    {
     "output_type": "display_data",
     "data": {
      "text/html": [
       "<style scoped>\n",
       "  .table-result-container {\n",
       "    max-height: 300px;\n",
       "    overflow: auto;\n",
       "  }\n",
       "  table, th, td {\n",
       "    border: 1px solid black;\n",
       "    border-collapse: collapse;\n",
       "  }\n",
       "  th, td {\n",
       "    padding: 5px;\n",
       "  }\n",
       "  th {\n",
       "    text-align: left;\n",
       "  }\n",
       "</style><div class='table-result-container'><table class='table-result'><thead style='background-color: white'><tr><th>winner1</th><th>id</th><th>winner2</th><th>id</th><th>winner</th></tr></thead><tbody><tr><td>Spain</td><td>0</td><td>England</td><td>0</td><td>England</td></tr><tr><td>Iceland</td><td>1</td><td>Slovakia</td><td>1</td><td>Slovakia</td></tr><tr><td>Romania</td><td>2</td><td>Czech Republic</td><td>2</td><td>Czech Republic</td></tr><tr><td>Greece</td><td>3</td><td>Hungary</td><td>3</td><td>Greece</td></tr></tbody></table></div>"
      ]
     },
     "metadata": {
      "application/vnd.databricks.v1+output": {
       "addedWidgets": {},
       "aggData": [],
       "aggError": "",
       "aggOverflow": false,
       "aggSchema": [],
       "aggSeriesLimitReached": false,
       "aggType": "",
       "arguments": {},
       "columnCustomDisplayInfos": {},
       "data": [
        [
         "Spain",
         0,
         "England",
         0,
         "England"
        ],
        [
         "Iceland",
         1,
         "Slovakia",
         1,
         "Slovakia"
        ],
        [
         "Romania",
         2,
         "Czech Republic",
         2,
         "Czech Republic"
        ],
        [
         "Greece",
         3,
         "Hungary",
         3,
         "Greece"
        ]
       ],
       "datasetInfos": [],
       "dbfsResultPath": null,
       "isJsonSchema": true,
       "metadata": {},
       "overflow": false,
       "plotOptions": {
        "customPlotOptions": {},
        "displayType": "table",
        "pivotAggregation": null,
        "pivotColumns": null,
        "xColumns": null,
        "yColumns": null
       },
       "removedWidgets": [],
       "schema": [
        {
         "metadata": "{}",
         "name": "winner1",
         "type": "\"string\""
        },
        {
         "metadata": "{}",
         "name": "id",
         "type": "\"integer\""
        },
        {
         "metadata": "{}",
         "name": "winner2",
         "type": "\"string\""
        },
        {
         "metadata": "{}",
         "name": "id",
         "type": "\"integer\""
        },
        {
         "metadata": "{}",
         "name": "winner",
         "type": "\"string\""
        }
       ],
       "type": "table"
      }
     },
     "output_type": "display_data"
    },
    {
     "output_type": "stream",
     "name": "stdout",
     "output_type": "stream",
     "text": [
      "+--------------+\n|        winner|\n+--------------+\n|       England|\n|      Slovakia|\n|Czech Republic|\n|        Greece|\n+--------------+\n\n"
     ]
    }
   ],
   "source": [
    "winners_quarter_final__df = quarter_final_df.withColumn(\"winner\", F.when(F.rand() > 0.5, F.col(\"winner1\")).otherwise(F.col(\"winner2\")))\n",
    "\n",
    "display(winners_quarter_final__df)\n",
    "\n",
    "# Select the winners of each match\n",
    "winners_quarter_final__df = winners_quarter_final__df.select(\"winner\")\n",
    "\n",
    "# Create temporary view for further query\n",
    "winners_quarter_final__df.createOrReplaceTempView(\"winners_quarter_final__df\")\n",
    "\n",
    "winners_quarter_final__df.show()"
   ]
  },
  {
   "cell_type": "markdown",
   "metadata": {
    "application/vnd.databricks.v1+cell": {
     "cellMetadata": {
      "byteLimit": 2048000,
      "rowLimit": 10000
     },
     "inputWidgets": {},
     "nuid": "aad050c6-bb28-4e15-8a57-87e27efe319d",
     "showTitle": false,
     "title": ""
    }
   },
   "source": [
    "#SEMI FINAL MATCHES"
   ]
  },
  {
   "cell_type": "code",
   "execution_count": 0,
   "metadata": {
    "application/vnd.databricks.v1+cell": {
     "cellMetadata": {
      "byteLimit": 2048000,
      "rowLimit": 10000
     },
     "inputWidgets": {},
     "nuid": "ab54f52b-29da-4d66-b3de-56aef8a14f58",
     "showTitle": false,
     "title": ""
    }
   },
   "outputs": [
    {
     "output_type": "stream",
     "name": "stdout",
     "output_type": "stream",
     "text": [
      "+--------------+---+\n|        winner| id|\n+--------------+---+\n|       England|  0|\n|      Slovakia|  1|\n|Czech Republic|  2|\n|        Greece|  3|\n+--------------+---+\n\n+--------------+--------+\n|         team1|   team2|\n+--------------+--------+\n|       England|Slovakia|\n|Czech Republic|  Greece|\n+--------------+--------+\n\n"
     ]
    }
   ],
   "source": [
    "# Assign a unique identifier to each row\n",
    "shuffled_quarter_winners = winners_quarter_final__df.withColumn(\"id\", F.row_number().over(window_spec2)-1)\n",
    "shuffled_quarter_winners.show()\n",
    "\n",
    "# Create a temporary view for further query\n",
    "shuffled_quarter_winners.createOrReplaceTempView(\"shuffled_quarter_winners\")\n",
    "\n",
    "semi_final_matches_df = spark.sql(\n",
    "    \"\"\"\n",
    "    SELECT\n",
    "        t3.winner AS team1,\n",
    "        t4.winner AS team2\n",
    "    FROM\n",
    "        shuffled_quarter_winners t3\n",
    "    JOIN\n",
    "        shuffled_quarter_winners t4\n",
    "    ON\n",
    "        t3.id = t4.id - 1\n",
    "    WHERE\n",
    "        t3.id % 2 = 0\n",
    "    \"\"\"\n",
    ")\n",
    "\n",
    "# Show the knockout matches DataFrame\n",
    "semi_final_matches_df.show()"
   ]
  },
  {
   "cell_type": "markdown",
   "metadata": {
    "application/vnd.databricks.v1+cell": {
     "cellMetadata": {
      "byteLimit": 2048000,
      "rowLimit": 10000
     },
     "inputWidgets": {},
     "nuid": "b1bdb83b-0c5a-456e-b1d7-0dd4689f9f14",
     "showTitle": false,
     "title": ""
    }
   },
   "source": [
    "#FINALIST"
   ]
  },
  {
   "cell_type": "code",
   "execution_count": 0,
   "metadata": {
    "application/vnd.databricks.v1+cell": {
     "cellMetadata": {
      "byteLimit": 2048000,
      "rowLimit": 10000
     },
     "inputWidgets": {},
     "nuid": "aa2a36ef-ca17-4e50-b4b8-04e22b66f8b1",
     "showTitle": false,
     "title": ""
    }
   },
   "outputs": [
    {
     "output_type": "display_data",
     "data": {
      "text/html": [
       "<style scoped>\n",
       "  .table-result-container {\n",
       "    max-height: 300px;\n",
       "    overflow: auto;\n",
       "  }\n",
       "  table, th, td {\n",
       "    border: 1px solid black;\n",
       "    border-collapse: collapse;\n",
       "  }\n",
       "  th, td {\n",
       "    padding: 5px;\n",
       "  }\n",
       "  th {\n",
       "    text-align: left;\n",
       "  }\n",
       "</style><div class='table-result-container'><table class='table-result'><thead style='background-color: white'><tr><th>team1</th><th>team2</th><th>winner</th></tr></thead><tbody><tr><td>England</td><td>Slovakia</td><td>England</td></tr><tr><td>Czech Republic</td><td>Greece</td><td>Czech Republic</td></tr></tbody></table></div>"
      ]
     },
     "metadata": {
      "application/vnd.databricks.v1+output": {
       "addedWidgets": {},
       "aggData": [],
       "aggError": "",
       "aggOverflow": false,
       "aggSchema": [],
       "aggSeriesLimitReached": false,
       "aggType": "",
       "arguments": {},
       "columnCustomDisplayInfos": {},
       "data": [
        [
         "England",
         "Slovakia",
         "England"
        ],
        [
         "Czech Republic",
         "Greece",
         "Czech Republic"
        ]
       ],
       "datasetInfos": [],
       "dbfsResultPath": null,
       "isJsonSchema": true,
       "metadata": {},
       "overflow": false,
       "plotOptions": {
        "customPlotOptions": {},
        "displayType": "table",
        "pivotAggregation": null,
        "pivotColumns": null,
        "xColumns": null,
        "yColumns": null
       },
       "removedWidgets": [],
       "schema": [
        {
         "metadata": "{}",
         "name": "team1",
         "type": "\"string\""
        },
        {
         "metadata": "{}",
         "name": "team2",
         "type": "\"string\""
        },
        {
         "metadata": "{}",
         "name": "winner",
         "type": "\"string\""
        }
       ],
       "type": "table"
      }
     },
     "output_type": "display_data"
    },
    {
     "output_type": "stream",
     "name": "stdout",
     "output_type": "stream",
     "text": [
      "+--------------+\n|        winner|\n+--------------+\n|       England|\n|Czech Republic|\n+--------------+\n\n"
     ]
    }
   ],
   "source": [
    "Finalists_df = semi_final_matches_df.withColumn(\"winner\", F.when(F.rand() > 0.5, F.col(\"team1\")).otherwise(F.col(\"team2\")))\n",
    "\n",
    "display(Finalists_df)\n",
    "\n",
    "# Select the winners of each match\n",
    "Finalists_df = Finalists_df.select(\"winner\")\n",
    "\n",
    "# Create temporary view for further query\n",
    "\n",
    "\n",
    "Finalists_df.show()"
   ]
  },
  {
   "cell_type": "markdown",
   "metadata": {
    "application/vnd.databricks.v1+cell": {
     "cellMetadata": {
      "byteLimit": 2048000,
      "rowLimit": 10000
     },
     "inputWidgets": {},
     "nuid": "0f6e115f-0d25-4644-8c8d-760801b18db0",
     "showTitle": false,
     "title": ""
    }
   },
   "source": [
    "#FINAL WINNER"
   ]
  },
  {
   "cell_type": "code",
   "execution_count": 0,
   "metadata": {
    "application/vnd.databricks.v1+cell": {
     "cellMetadata": {
      "byteLimit": 2048000,
      "rowLimit": 10000
     },
     "inputWidgets": {},
     "nuid": "26a6779a-f627-4d90-83c1-abe03435421e",
     "showTitle": false,
     "title": ""
    }
   },
   "outputs": [
    {
     "output_type": "display_data",
     "data": {
      "text/html": [
       "<style scoped>\n",
       "  .table-result-container {\n",
       "    max-height: 300px;\n",
       "    overflow: auto;\n",
       "  }\n",
       "  table, th, td {\n",
       "    border: 1px solid black;\n",
       "    border-collapse: collapse;\n",
       "  }\n",
       "  th, td {\n",
       "    padding: 5px;\n",
       "  }\n",
       "  th {\n",
       "    text-align: left;\n",
       "  }\n",
       "</style><div class='table-result-container'><table class='table-result'><thead style='background-color: white'><tr><th>team1</th><th>team2</th><th>winner</th></tr></thead><tbody><tr><td>England</td><td>Czech Republic</td><td>England</td></tr></tbody></table></div>"
      ]
     },
     "metadata": {
      "application/vnd.databricks.v1+output": {
       "addedWidgets": {},
       "aggData": [],
       "aggError": "",
       "aggOverflow": false,
       "aggSchema": [],
       "aggSeriesLimitReached": false,
       "aggType": "",
       "arguments": {},
       "columnCustomDisplayInfos": {},
       "data": [
        [
         "England",
         "Czech Republic",
         "England"
        ]
       ],
       "datasetInfos": [],
       "dbfsResultPath": null,
       "isJsonSchema": true,
       "metadata": {},
       "overflow": false,
       "plotOptions": {
        "customPlotOptions": {},
        "displayType": "table",
        "pivotAggregation": null,
        "pivotColumns": null,
        "xColumns": null,
        "yColumns": null
       },
       "removedWidgets": [],
       "schema": [
        {
         "metadata": "{}",
         "name": "team1",
         "type": "\"string\""
        },
        {
         "metadata": "{}",
         "name": "team2",
         "type": "\"string\""
        },
        {
         "metadata": "{}",
         "name": "winner",
         "type": "\"string\""
        }
       ],
       "type": "table"
      }
     },
     "output_type": "display_data"
    },
    {
     "output_type": "stream",
     "name": "stdout",
     "output_type": "stream",
     "text": [
      "+-------+\n| winner|\n+-------+\n|England|\n+-------+\n\n"
     ]
    }
   ],
   "source": [
    "Finalists_df = Finalists_df.withColumn(\"id\", F.monotonically_increasing_id())\n",
    "\n",
    "# Create a temporary view for further query\n",
    "Finalists_df.createOrReplaceTempView(\"Finalists_df\")\n",
    "\n",
    "final_matches_df = spark.sql(\n",
    "    \"\"\"\n",
    "    SELECT\n",
    "        t3.winner AS team1,\n",
    "        t4.winner AS team2\n",
    "    FROM\n",
    "        Finalists_df t3\n",
    "    JOIN\n",
    "        Finalists_df t4\n",
    "    ON\n",
    "        t3.id = t4.id - 1\n",
    "    WHERE\n",
    "        t3.id % 2 = 0\n",
    "    \"\"\"\n",
    ")\n",
    "\n",
    "final_matches_df = final_matches_df.withColumn(\"winner\", F.when(F.rand() > 0.5, F.col(\"team1\")).otherwise(F.col(\"team2\")))\n",
    "display(final_matches_df)\n",
    "\n",
    "# Select the winners of each match\n",
    "Winner = final_matches_df.select(\"winner\")\n",
    "\n",
    "Winner.show()"
   ]
  },
  {
   "cell_type": "code",
   "execution_count": 0,
   "metadata": {
    "application/vnd.databricks.v1+cell": {
     "cellMetadata": {
      "byteLimit": 2048000,
      "rowLimit": 10000
     },
     "inputWidgets": {},
     "nuid": "0d9dbaa2-2797-4b54-b51c-7580c258e157",
     "showTitle": false,
     "title": ""
    }
   },
   "outputs": [],
   "source": []
  }
 ],
 "metadata": {
  "application/vnd.databricks.v1+notebook": {
   "dashboards": [],
   "language": "python",
   "notebookMetadata": {
    "pythonIndentUnit": 4
   },
   "notebookName": "eurocuprandom",
   "widgets": {}
  }
 },
 "nbformat": 4,
 "nbformat_minor": 0
}
